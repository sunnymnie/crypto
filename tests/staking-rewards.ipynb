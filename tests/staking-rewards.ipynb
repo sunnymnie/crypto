{
 "cells": [
  {
   "cell_type": "markdown",
   "id": "7f612433-7e5f-4078-86df-939c04305cf8",
   "metadata": {},
   "source": [
    "# When to collect staking rewards?"
   ]
  },
  {
   "cell_type": "code",
   "execution_count": 1,
   "id": "0c92a7e7-21ae-4de6-9d0c-ea712d694f9a",
   "metadata": {},
   "outputs": [],
   "source": [
    "def transact(initial, rwd, fee):\n",
    "    initial += rwd\n",
    "    initial -= fee\n",
    "    return initial, 0, fee"
   ]
  },
  {
   "cell_type": "code",
   "execution_count": 2,
   "id": "60267bc0-f439-44e0-948c-5a1e5717c3d5",
   "metadata": {},
   "outputs": [],
   "source": [
    "def test(initial, fee, apy, condition, length=365):\n",
    "    rwd = 0\n",
    "    interest = apy*0.01/365\n",
    "    for i in range(length):\n",
    "        rwd += interest*initial\n",
    "        if condition(rwd, fee): \n",
    "            initial, rwd, fee = transact(initial, rwd, fee)\n",
    "    initial, rwd, fee = transact(initial, rwd, 0)\n",
    "    return initial"
   ]
  },
  {
   "cell_type": "code",
   "execution_count": 3,
   "id": "47819ca6-e2b2-477c-8f84-9a481ceabece",
   "metadata": {},
   "outputs": [],
   "source": [
    "def brute_force_test(initial, fee, apy, length=365, extra=100):\n",
    "    i = 1\n",
    "    fails = extra\n",
    "    max_gain = [-1, i]\n",
    "    while True:\n",
    "        ret = test(initial, fee, apy, lambda rwd, fee: rwd>fee*i)\n",
    "        if ret<max_gain[0]:\n",
    "            fails -= 1\n",
    "            if fails==0: return max_gain[1]*fee\n",
    "        else:\n",
    "            fails = extra\n",
    "            max_gain = [ret, i]\n",
    "        i+=1\n"
   ]
  },
  {
   "cell_type": "code",
   "execution_count": 60,
   "id": "770955e3-48a2-4e4c-a8b8-0ddce33cacea",
   "metadata": {},
   "outputs": [
    {
     "data": {
      "text/plain": [
       "0.1246"
      ]
     },
     "execution_count": 60,
     "metadata": {},
     "output_type": "execute_result"
    }
   ],
   "source": [
    "brute_force_test(5.84, 0.0014, 14)"
   ]
  },
  {
   "cell_type": "code",
   "execution_count": 10,
   "id": "baa5773e-7e3b-4d64-ba08-ac40cbad6236",
   "metadata": {},
   "outputs": [
    {
     "data": {
      "text/plain": [
       "0.052000000000000005"
      ]
     },
     "execution_count": 10,
     "metadata": {},
     "output_type": "execute_result"
    }
   ],
   "source": [
    "brute_force_test(0.5, 0.002, 75)"
   ]
  },
  {
   "cell_type": "code",
   "execution_count": null,
   "id": "87b0743a-4af7-4808-84cf-228a1c67fe67",
   "metadata": {},
   "outputs": [],
   "source": []
  }
 ],
 "metadata": {
  "kernelspec": {
   "display_name": "Python 3 (ipykernel)",
   "language": "python",
   "name": "python3"
  },
  "language_info": {
   "codemirror_mode": {
    "name": "ipython",
    "version": 3
   },
   "file_extension": ".py",
   "mimetype": "text/x-python",
   "name": "python",
   "nbconvert_exporter": "python",
   "pygments_lexer": "ipython3",
   "version": "3.9.7"
  }
 },
 "nbformat": 4,
 "nbformat_minor": 5
}
