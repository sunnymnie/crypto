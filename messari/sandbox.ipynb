{
 "cells": [
  {
   "cell_type": "markdown",
   "id": "756ffc69-4842-448c-909d-66707683f651",
   "metadata": {},
   "source": [
    "# Messari bypass paywaller"
   ]
  },
  {
   "cell_type": "code",
   "execution_count": 1,
   "id": "c785aae6-a390-4c40-868d-e2195c46f341",
   "metadata": {},
   "outputs": [],
   "source": [
    "import requests\n",
    "import os\n",
    "import json\n",
    "# import xmltojson\n",
    "# import BeautifulSoup4 as bs"
   ]
  },
  {
   "cell_type": "code",
   "execution_count": 69,
   "id": "25b7548c-2518-4ab6-b24e-85158428fc20",
   "metadata": {},
   "outputs": [
    {
     "name": "stderr",
     "output_type": "stream",
     "text": [
      "\n",
      "\n",
      "====== WebDriver manager ======\n",
      "Current google-chrome version is 97.0.4692\n",
      "Get LATEST chromedriver version for 97.0.4692 google-chrome\n",
      "Driver [/Users/SunnyNie/.wdm/drivers/chromedriver/mac64/97.0.4692.71/chromedriver] found in cache\n",
      "/var/folders/4n/h7p57sb17sn7vtrtjz3m1xhr0000gn/T/ipykernel_24429/27291130.py:5: DeprecationWarning: executable_path has been deprecated, please pass in a Service object\n",
      "  driver = webdriver.Chrome(ChromeDriverManager().install())\n"
     ]
    }
   ],
   "source": [
    "from selenium import webdriver\n",
    "from webdriver_manager.chrome import ChromeDriverManager\n",
    "from selenium.webdriver.common.by import By\n",
    "\n",
    "driver = webdriver.Chrome(ChromeDriverManager().install())"
   ]
  },
  {
   "cell_type": "code",
   "execution_count": 70,
   "id": "4a02d21f-2ad1-41ab-b08d-f3aa62c90780",
   "metadata": {},
   "outputs": [],
   "source": [
    "url = 'https://messari.io/article/the-evolution-sushiswap-to-sushi-com'\n",
    "url = 'https://messari.io/article/cosmos-ibc-unlocking-the-blockchain-multiverse'"
   ]
  },
  {
   "cell_type": "code",
   "execution_count": 71,
   "id": "2e249671-3f46-4d24-a220-ffc4a650975b",
   "metadata": {},
   "outputs": [],
   "source": [
    "from selenium import webdriver\n",
    "\n",
    "# browser = webdriver.Chrome()\n",
    "driver.get(url)"
   ]
  },
  {
   "cell_type": "code",
   "execution_count": 74,
   "id": "da986b73-6775-40bf-8112-cfc1a83e7bcf",
   "metadata": {},
   "outputs": [],
   "source": [
    "from bs4 import BeautifulSoup\n",
    "# from selenium import webdriver\n",
    "\n",
    "# driver = webdriver.Chrome()\n",
    "# html_source_code = driver.execute_script(\"return document.body.innerHTML;\")\n",
    "html_soup: BeautifulSoup = BeautifulSoup(driver.page_source, 'html.parser')"
   ]
  },
  {
   "cell_type": "code",
   "execution_count": 75,
   "id": "d0585de3-adfb-4a44-b21c-765f263bb5e3",
   "metadata": {},
   "outputs": [],
   "source": [
    "main = html_soup.find('div', attrs={'class': 'Messari-paywall'}).next()"
   ]
  },
  {
   "cell_type": "code",
   "execution_count": 76,
   "id": "ef23e189-35be-4118-94e8-bcdbe679495b",
   "metadata": {},
   "outputs": [],
   "source": [
    "import requests\n",
    "import shutil"
   ]
  },
  {
   "cell_type": "code",
   "execution_count": 77,
   "id": "f9785e04-ccbd-4f66-9ff8-e084d3590532",
   "metadata": {},
   "outputs": [],
   "source": [
    "import os, glob"
   ]
  },
  {
   "cell_type": "code",
   "execution_count": 78,
   "id": "0085ce64-217a-48c9-a93d-52df956613a0",
   "metadata": {},
   "outputs": [],
   "source": [
    "import pypandoc\n",
    "from datetime import datetime\n"
   ]
  },
  {
   "cell_type": "code",
   "execution_count": 79,
   "id": "d76e347d-d7e6-4af9-955f-39fa888e764f",
   "metadata": {},
   "outputs": [],
   "source": [
    "def parse(text):\n",
    "    text = text.replace('\\n', ' ', -1) + '\\n\\n'\n",
    "    text = text.replace('\\\\tightlist', '', -1)\n",
    "    return text\n",
    "\n",
    "def parse_title(title):\n",
    "    title = title.lower()\n",
    "    title = title.replace(\":\", \"-\", -1)\n",
    "    title = title.replace(\" \", \"-\", -1)\n",
    "    return title\n",
    "    \n",
    "# def parse_paragraph(pg):\n",
    "#     text = pg.text\n",
    "#     text = parse_html(pg, text)\n",
    "#     return text\n",
    "\n",
    "# def replace_span(span, text):\n",
    "#     link = span.find('a')['href']\n",
    "#     term = span.find('a').text\n",
    "#     replacement = \"\\href{\"+link+\"}{\"+term+\"}\"\n",
    "#     return text.replace(term, replacement)\n",
    "\n",
    "def parse_figure(fig, name):\n",
    "    try: \n",
    "        link = fig.find('a')['href']\n",
    "        img = requests.get(link, stream=True)\n",
    "        img.raw.decode_content = True\n",
    "        with open(name + link[-4:],'wb') as f:\n",
    "            shutil.copyfileobj(img.raw, f)\n",
    "\n",
    "        return \"\\includegraphics[width=0.9\\linewidth]{\"+name+\"}\"\n",
    "    except:\n",
    "        link = fig.find('div').next['src'].replace('_', '\\_', -1)\n",
    "        return f\"Video: {link}\"\n",
    "\n",
    "def parse_header(header, rank):\n",
    "    text = pypandoc.convert_text(\"<p>\" + header.text + \"</p>\", 'latex', format='html')\n",
    "    text = \"section*{\" + text + \"}\"\n",
    "    if rank == \"h3\": text = \"sub\" + text\n",
    "    elif rank != \"h2\": text = \"subsub\" + text\n",
    "    return f\"\\\\{text}\"\n",
    "\n",
    "# def parse_list(string, list_type):\n",
    "#     name = \"itemize\"\n",
    "#     if list_type == \"ol\": name = \"enumerate\"\n",
    "    \n",
    "def get_date(html_soup):\n",
    "    date = html_soup.find('p', attrs={'class': 'MuiTypography-root MuiTypography-body1 MuiTypography-colorTextSecondary'}).text\n",
    "    date = date[:date.find('\\xa0')]\n",
    "    if 'hour' in date:\n",
    "        date = datetime.today().strftime(\"%b %-d, %Y\")\n",
    "    return date\n",
    "    \n",
    "\n",
    "def cleanup(fignum, temp):\n",
    "    for i in range(fignum):\n",
    "        for filename in glob.glob(f\"./{i}*\"):\n",
    "            os.remove(filename) \n",
    "    for filename in glob.glob(f\"./{temp}*\"):\n",
    "            os.remove(filename) \n",
    "    "
   ]
  },
  {
   "cell_type": "code",
   "execution_count": 67,
   "id": "32a37df4-16da-4fb6-a4ac-0cee17c5b018",
   "metadata": {
    "collapsed": true,
    "jupyter": {
     "outputs_hidden": true
    },
    "tags": []
   },
   "outputs": [
    {
     "name": "stdout",
     "output_type": "stream",
     "text": [
      "This is XeTeX, Version 3.141592653-2.6-0.999993 (TeX Live 2021) (preloaded format=xelatex)\n",
      " restricted \\write18 enabled.\n",
      "entering extended mode\n",
      "(./test.tex\n",
      "LaTeX2e <2020-10-01> patch level 4\n",
      "L3 programming layer <2021-02-18> (./messari.cls\n",
      "Document Class: messari 2022/09/01 Notes\n",
      "(/usr/local/texlive/2021/texmf-dist/tex/latex/base/article.cls\n",
      "Document Class: article 2020/04/10 v1.4m Standard LaTeX document class\n",
      "(/usr/local/texlive/2021/texmf-dist/tex/latex/base/size10.clo))\n",
      "(/usr/local/texlive/2021/texmf-dist/tex/latex/geometry/geometry.sty\n",
      "(/usr/local/texlive/2021/texmf-dist/tex/latex/graphics/keyval.sty)\n",
      "(/usr/local/texlive/2021/texmf-dist/tex/generic/iftex/ifvtex.sty\n",
      "(/usr/local/texlive/2021/texmf-dist/tex/generic/iftex/iftex.sty)))\n",
      "(/usr/local/texlive/2021/texmf-dist/tex/latex/fontspec/fontspec.sty\n",
      "(/usr/local/texlive/2021/texmf-dist/tex/latex/l3packages/xparse/xparse.sty\n",
      "(/usr/local/texlive/2021/texmf-dist/tex/latex/l3kernel/expl3.sty\n",
      "(/usr/local/texlive/2021/texmf-dist/tex/latex/l3backend/l3backend-xetex.def\n",
      "(|extractbb --version)))\n",
      "(/usr/local/texlive/2021/texmf-dist/tex/latex/l3packages/xparse/xparse-2020-10-\n",
      "01.sty\n",
      "(/usr/local/texlive/2021/texmf-dist/tex/latex/l3packages/xparse/xparse-generic.\n",
      "tex)))\n",
      "(/usr/local/texlive/2021/texmf-dist/tex/latex/fontspec/fontspec-xetex.sty\n",
      "(/usr/local/texlive/2021/texmf-dist/tex/latex/base/fontenc.sty)\n",
      "(/usr/local/texlive/2021/texmf-dist/tex/latex/fontspec/fontspec.cfg)))\n",
      "(/usr/local/texlive/2021/texmf-dist/tex/latex/tocloft/tocloft.sty)\n",
      "(/usr/local/texlive/2021/texmf-dist/tex/latex/setspace/setspace.sty)\n",
      "(/usr/local/texlive/2021/texmf-dist/tex/latex/graphics/graphicx.sty\n",
      "(/usr/local/texlive/2021/texmf-dist/tex/latex/graphics/graphics.sty\n",
      "(/usr/local/texlive/2021/texmf-dist/tex/latex/graphics/trig.sty)\n",
      "(/usr/local/texlive/2021/texmf-dist/tex/latex/graphics-cfg/graphics.cfg)\n",
      "(/usr/local/texlive/2021/texmf-dist/tex/latex/graphics-def/xetex.def))))\n",
      "(/usr/local/texlive/2021/texmf-dist/tex/latex/hyperref/hyperref.sty\n",
      "(/usr/local/texlive/2021/texmf-dist/tex/generic/ltxcmds/ltxcmds.sty)\n",
      "(/usr/local/texlive/2021/texmf-dist/tex/generic/pdftexcmds/pdftexcmds.sty\n",
      "(/usr/local/texlive/2021/texmf-dist/tex/generic/infwarerr/infwarerr.sty))\n",
      "(/usr/local/texlive/2021/texmf-dist/tex/generic/kvsetkeys/kvsetkeys.sty)\n",
      "(/usr/local/texlive/2021/texmf-dist/tex/generic/kvdefinekeys/kvdefinekeys.sty)\n",
      "(/usr/local/texlive/2021/texmf-dist/tex/generic/pdfescape/pdfescape.sty)\n",
      "(/usr/local/texlive/2021/texmf-dist/tex/latex/hycolor/hycolor.sty)\n",
      "(/usr/local/texlive/2021/texmf-dist/tex/latex/letltxmacro/letltxmacro.sty)\n",
      "(/usr/local/texlive/2021/texmf-dist/tex/latex/auxhook/auxhook.sty)\n",
      "(/usr/local/texlive/2021/texmf-dist/tex/latex/kvoptions/kvoptions.sty)\n",
      "(/usr/local/texlive/2021/texmf-dist/tex/latex/hyperref/pd1enc.def)\n",
      "(/usr/local/texlive/2021/texmf-dist/tex/latex/hyperref/hyperref-langpatches.def\n",
      ") (/usr/local/texlive/2021/texmf-dist/tex/generic/intcalc/intcalc.sty)\n",
      "(/usr/local/texlive/2021/texmf-dist/tex/generic/etexcmds/etexcmds.sty)\n",
      "(/usr/local/texlive/2021/texmf-dist/tex/latex/hyperref/puenc.def)\n",
      "(/usr/local/texlive/2021/texmf-dist/tex/latex/url/url.sty)\n",
      "(/usr/local/texlive/2021/texmf-dist/tex/generic/bitset/bitset.sty\n",
      "(/usr/local/texlive/2021/texmf-dist/tex/generic/bigintcalc/bigintcalc.sty))\n",
      "(/usr/local/texlive/2021/texmf-dist/tex/latex/base/atbegshi-ltx.sty))\n",
      "(/usr/local/texlive/2021/texmf-dist/tex/latex/hyperref/hxetex.def\n",
      "(/usr/local/texlive/2021/texmf-dist/tex/generic/stringenc/stringenc.sty)\n",
      "(/usr/local/texlive/2021/texmf-dist/tex/latex/rerunfilecheck/rerunfilecheck.sty\n",
      "(/usr/local/texlive/2021/texmf-dist/tex/latex/base/atveryend-ltx.sty)\n",
      "(/usr/local/texlive/2021/texmf-dist/tex/generic/uniquecounter/uniquecounter.sty\n",
      "))) (./test.aux) (/usr/local/texlive/2021/texmf-dist/tex/latex/base/ts1cmr.fd)\n",
      "*geometry* driver: auto-detecting\n",
      "*geometry* detected driver: xetex\n",
      "(/usr/local/texlive/2021/texmf-dist/tex/latex/graphics/color.sty\n",
      "(/usr/local/texlive/2021/texmf-dist/tex/latex/graphics-cfg/color.cfg))\n",
      "(/usr/local/texlive/2021/texmf-dist/tex/latex/hyperref/nameref.sty\n",
      "(/usr/local/texlive/2021/texmf-dist/tex/latex/refcount/refcount.sty)\n",
      "(/usr/local/texlive/2021/texmf-dist/tex/generic/gettitlestring/gettitlestring.s\n",
      "ty)) (./test.out) (./test.out) [1] [2] (./test.aux) )\n",
      "Output written on test.pdf (2 pages).\n",
      "Transcript written on test.log.\n"
     ]
    }
   ],
   "source": [
    "texdoc = []\n",
    "fignum = 0\n",
    "temp = 'test'\n",
    "title = html_soup.find('div', attrs={'class': 'MuiContainer-root MuiContainer-maxWidthLg'}).find('h1').text\n",
    "author = html_soup.find('p', attrs={'class': 'MuiTypography-root MuiTypography-body1'}).find('a').text\n",
    "texdoc.append(\"\\documentclass{messari}\\n\")\n",
    "texdoc.append(\"\\\\usepackage{hyperref}\\n\")\n",
    "texdoc.append(\"\\hypersetup{colorlinks=true,linkcolor=black,filecolor=magenta,urlcolor=blue,pdftitle={Overleaf Example},pdfpagemode=FullScreen}\\n\")\n",
    "texdoc.append(\"\\\\title{\" + title + \"}\\n\")\n",
    "texdoc.append(\"\\\\author{\" + author + \"}\\n\")\n",
    "texdoc.append(\"\\\\date{\" + get_date(html_soup) + \"}\\n\")\n",
    "\n",
    "texdoc.append(\"\\\\begin{document}\\n\")\n",
    "texdoc.append(\"\\\\maketitle\\n\")\n",
    "texdoc.append(\"\\\\author\\n\")\n",
    "\n",
    "\n",
    "\n",
    "for i in range(len(main)):\n",
    "    if main[i].name in ['p','ol', 'ul']:\n",
    "        texdoc.append(parse(pypandoc.convert_text(str(main[i]), 'latex', format='html')))\n",
    "    elif main[i].name == 'figure':\n",
    "        texdoc.append(parse(parse_figure(main[i], str(fignum))))\n",
    "        fignum += 1\n",
    "    elif main[i].name in ['h2', 'h3', 'h4', 'h5', 'h6', 'h7']:\n",
    "        texdoc.append(parse_header(main[i], main[i].name)+\"\\n\")\n",
    "        \n",
    "texdoc.append(\"\\end{document}\")\n",
    "\n",
    "with open(f\"{temp}.tex\", 'w') as fout:\n",
    "    for i in range(len(texdoc)):\n",
    "        fout.write(texdoc[i])\n",
    "        \n",
    "import os  \n",
    "os.system(f\"xelatex {temp}.tex\")\n",
    "os.rename(f\"{temp}.pdf\", f\"{parse_title(title)}.pdf\")\n",
    "        \n",
    "        \n",
    "cleanup(fignum, temp)"
   ]
  },
  {
   "cell_type": "code",
   "execution_count": 83,
   "id": "e1abb5f1-01f5-4baf-aa99-071d233fa299",
   "metadata": {},
   "outputs": [],
   "source": [
    "driver.quit()"
   ]
  },
  {
   "cell_type": "code",
   "execution_count": 80,
   "id": "f5d177be-d903-4f4a-bd67-f364603536e0",
   "metadata": {},
   "outputs": [],
   "source": [
    "main = html_soup.find('div', attrs={'class': 'Messari-paywall'}).next('figure')"
   ]
  },
  {
   "cell_type": "code",
   "execution_count": 82,
   "id": "4bd41d31-5b7a-4e51-8f0e-b050ae5c0e24",
   "metadata": {},
   "outputs": [
    {
     "data": {
      "text/plain": [
       "<figure><a data-lightbox=\"true\" href=\"https://messari.s3.amazonaws.com/images/agora-images/5E9F0678-Cosmos%20IBC.png\"><img alt=\"\" src=\"https://messari.s3.amazonaws.com/images/agora-images/5E9F0678-Cosmos%20IBC.png\"/></a></figure>"
      ]
     },
     "execution_count": 82,
     "metadata": {},
     "output_type": "execute_result"
    }
   ],
   "source": [
    "main[0]"
   ]
  },
  {
   "cell_type": "code",
   "execution_count": 350,
   "id": "3dedfd66-8032-488b-b514-5fdd882b1a8b",
   "metadata": {},
   "outputs": [],
   "source": [
    "output = pypandoc.convert_text(str(main[0]), 'latex', format='html')"
   ]
  },
  {
   "cell_type": "code",
   "execution_count": 351,
   "id": "d757bd3d-e4b3-4c09-8ca0-75290b259715",
   "metadata": {},
   "outputs": [
    {
     "data": {
      "text/plain": [
       "'In recent weeks, the global fear of the rising interest rates and new\\ncovid variant have generally slowed the price rise of \"risk-on\" assets,\\nwith the majority of well-known DeFi tokens plunging by\\n{\\\\href{https://twitter.com/Darrenlautf/status/1473067558588891138}{more\\nthan 50\\\\%}}. The media focuses on price the most, but DeFi activities\\nhave remained relatively unaffected. DeFi\\'s total value locked (TVL) has\\nremained stable, hovering at {\\\\href{https://defillama.com/}{\\\\$245\\nbillion}}, or just around 6\\\\% below its all-time high.\\n'"
      ]
     },
     "execution_count": 351,
     "metadata": {},
     "output_type": "execute_result"
    }
   ],
   "source": [
    "output"
   ]
  },
  {
   "cell_type": "code",
   "execution_count": 217,
   "id": "d2cbf468-fd21-42af-8027-5b0f9a2986ca",
   "metadata": {},
   "outputs": [],
   "source": [
    "a = 'testing replace should be good'"
   ]
  },
  {
   "cell_type": "code",
   "execution_count": 218,
   "id": "a7f1c885-77e3-4658-a30a-f1959a38ce13",
   "metadata": {},
   "outputs": [
    {
     "data": {
      "text/plain": [
       "'testing 1 be good'"
      ]
     },
     "execution_count": 218,
     "metadata": {},
     "output_type": "execute_result"
    }
   ],
   "source": [
    "a.replace('replace should', '1')"
   ]
  },
  {
   "cell_type": "code",
   "execution_count": 112,
   "id": "8d3d6a16-6d73-4279-b698-77ed39700c23",
   "metadata": {},
   "outputs": [
    {
     "ename": "AttributeError",
     "evalue": "'NoneType' object has no attribute 'find'",
     "output_type": "error",
     "traceback": [
      "\u001b[0;31m---------------------------------------------------------------------------\u001b[0m",
      "\u001b[0;31mAttributeError\u001b[0m                            Traceback (most recent call last)",
      "\u001b[0;32m/var/folders/4n/h7p57sb17sn7vtrtjz3m1xhr0000gn/T/ipykernel_8388/1859844520.py\u001b[0m in \u001b[0;36m<module>\u001b[0;34m\u001b[0m\n\u001b[0;32m----> 1\u001b[0;31m \u001b[0mmain\u001b[0m\u001b[0;34m.\u001b[0m\u001b[0mfind\u001b[0m\u001b[0;34m(\u001b[0m\u001b[0;34m'h1'\u001b[0m\u001b[0;34m,\u001b[0m \u001b[0mattrs\u001b[0m\u001b[0;34m=\u001b[0m\u001b[0;34m{\u001b[0m\u001b[0;34m'class'\u001b[0m\u001b[0;34m:\u001b[0m \u001b[0;34m'jss47'\u001b[0m\u001b[0;34m}\u001b[0m\u001b[0;34m)\u001b[0m\u001b[0;34m.\u001b[0m\u001b[0mtext\u001b[0m\u001b[0;34m\u001b[0m\u001b[0;34m\u001b[0m\u001b[0m\n\u001b[0m",
      "\u001b[0;31mAttributeError\u001b[0m: 'NoneType' object has no attribute 'find'"
     ]
    }
   ],
   "source": [
    "main.find('h1', attrs={'class': 'jss47'}).text"
   ]
  },
  {
   "cell_type": "code",
   "execution_count": 107,
   "id": "6d829760-1f11-4b9a-af4c-62a07bee68fb",
   "metadata": {
    "collapsed": true,
    "jupyter": {
     "outputs_hidden": true
    },
    "tags": []
   },
   "outputs": [
    {
     "data": {
      "text/plain": [
       "<div class=\"jss54 jss56\"><p>Since the start of the year, Terra’s native token LUNA has grown explosively, rising from a $300 million market cap to $6 billion. Was this run deserved?</p><p>In this report, I explore the factors driving demand for the Terra ecosystem including overviews of Chai, Mirror, and Anchor, as well as the big picture of what Terra is building.</p><figure><a data-lightbox=\"true\" href=\"https://messari.s3.amazonaws.com/images/agora-images/95FCC89A-Jun%20Yu%20LUNA%20mcap.png\"><img alt=\"\" src=\"https://messari.s3.amazonaws.com/images/agora-images/95FCC89A-Jun%20Yu%20LUNA%20mcap.png\"/></a></figure><p><strong><span>What’s driving this explosive growth?</span></strong></p><p>To understand why Terra’s ecosystem has been gaining so much traction recently, we must first understand the team and founding philosophy behind Terra. Terra’s co-founders Do Kwon and Daniel Shin both went through YCombinator which has incubated leading technology companies like Stripe, Airbnb, and Coinbase and understood that user experience and adoption were the most important metrics for projects.</p><p>They realized that a big barrier to entry for many newcomers was that too many crypto projects were too technically complex to understand and easily intimidated users. Rather than throwing  all the complexity of DeFi at users, they instead wanted to build an ecosystem that offered a user friendly portal into DeFi.</p><p>The easiest way to understand Terra is to think of it similar to a traditional bank that facilitates payments, transfers, investments, loans and savings, but automated. It is implemented as a public blockchain and is community owned, community governed, and accessible to anyone in the world with an internet connection. Users enter the ecosystem through Terra stablecoins and access the above banking functions through a suite of apps and protocols. Terra improves on the existing banking model by being globally accessible and non-rent seeking.</p><p><strong><span>Stablecoins</span></strong></p><p>Terra's first offering was a basket of algorithmic stablecoins - cryptocurrencies pegged to real-world currencies like the US Dollar, that reduce price volatility inherent in cryptocurrencies like Bitcoin. Terra went for its own stablecoin design because they felt that current options then had too many issues. Stablecoins like USDT and USDC are centralized (supply of USDT is controlled by Tether) and algorithmic stablecoins like Dai that tried to be decentralized had to be overcollateralized which leads to them being very capital-inefficient and difficult to scale.</p><p>Terra stablecoins are algorithmic but without a need for collateral because they are backed by a reserve token called LUNA, which has a fixed supply. Whenever one UST (USD Terra) is minted, one dollar worth of LUNA has to be burnt.</p><p>LUNA helps to maintain UST’s peg to the dollar by an arbitrage mechanism. Whenever UST trades above the peg, users can send 1 dollar worth of LUNA to the system and receive 1 UST. Conversely, when UST trades below the peg, users can send 1 UST to the system to receive 1 dollar worth of LUNA. In both cases, users are incentivized to arbitrage and help maintain UST’s peg to the dollar.</p><p>The LUNA token effectively captures the value of the Terra ecosystem as supply is burnt whenever demand for UST grows. Hence, generating real world demand for Terra stablecoins has been the Terra team’s North Star. The current Terra ecosystem has since established a thriving ecosystem for users to use their stablecoins in payments, investments and savings.</p><p><strong><span>CHAI - A better payment gateway</span></strong></p><figure><a data-lightbox=\"true\" href=\"https://messari.s3.amazonaws.com/images/agora-images/43947847-Jun%20Yu%20CHAI_Card_03_small-e1607514363231.png\"><img alt=\"\" src=\"https://messari.s3.amazonaws.com/images/agora-images/43947847-Jun%20Yu%20CHAI_Card_03_small-e1607514363231.png\"/></a></figure><p>Terra’s first main application was to partner with mobile payments app CHAI. Similar to how the main functions of a bank are to settle transfers and payments, CHAI allows merchants to easily settle transactions. With 0.5% fees that are lower than credit card transactions (2-3%) and instant settlement, CHAI has reached 5% of the Korean population at 2.3M total users.</p><figure><a data-lightbox=\"true\" href=\"https://messari.s3.amazonaws.com/images/agora-images/7E6F98A1-Jun%20Yu%20chaiusers.png\"><img alt=\"\" src=\"https://messari.s3.amazonaws.com/images/agora-images/7E6F98A1-Jun%20Yu%20chaiusers.png\"/></a></figure><p>The CHAI app also offers “boosts” where users that pay through CHAI can receive points that they can use at select stores like Nike or Starbucks to redeem promotions. This is a win-win because merchants can now have better settlement options than credit card settlements which are more expensive and slower while users get to instantly use their stablecoins (and receive discounts), without needing to cash out back to fiat.</p><p><strong><span>MIRROR - Decentralized Investment Platform</span></strong></p><p>Mirror is a protocol built on Terra that allows users to trade synthetic stocks (mAssets). mAssets are created by a minting process which any user can do by first depositing collateral at a minimum ratio of 150%. Trading the minted mAssets on Mirror is done through AMMs or liquidity pools of  the mAsset paired with UST. Prices of mAssets are soft pegged to their real-world counterparts through arbitrageurs and liquidation incentives. Traders who are long certain stocks would buy and hold mAssets whereas minting mAssets is effectively shorting the mAsset.</p><p>Why do we need a decentralized platform to trade synthetic stocks? The value of decentralization has become more apparent after the Robinhood-Gamestop saga where Robinhood just outright denied users the ability to buy Gamestop shares.</p><figure><a data-lightbox=\"true\" href=\"https://messari.s3.amazonaws.com/images/agora-images/4D146610-Jun%20Yu%20meme.png\"><img alt=\"\" src=\"https://messari.s3.amazonaws.com/images/agora-images/4D146610-Jun%20Yu%20meme.png\"/></a></figure><p>On Mirror, trading is 24/7 without capital restrictions or geographical regulations. Users can invest fractionally and also switch quickly between crypto and equities.</p><p>An overlooked factor here is that most people new to crypto are usually hesitant to invest too much in crypto. They probably want to keep most of their wealth in equities and stocks that they are familiar with. However, there is a huge opportunity cost when switching between stocks and crypto because they are usually not offered on the same platform (cashing out can take anywhere from days to weeks). Mirror solves this problem and makes investing in both crypto and stocks a seamless experience.</p><p>Currently, the largest user base for Mirror actually comes from Thailand because Thai citizens have strong capital outflow regulations that make it very difficult for the everyday Thai investor to invest in foreign markets. Funnily enough, the innovation arm of Thailand’s oldest bank, Siam Commercial Bank <span><a href=\"https://twitter.com/SCB10X_OFFICIAL/status/1386535031875674112\" rel=\"noopener nofollow noreferrer\" target=\"_blank\">recently set up a validator node</a></span> on the Terra blockchain.</p><figure><a data-lightbox=\"true\" href=\"https://messari.s3.amazonaws.com/images/agora-images/D1F4873D-Jun%20Yu%20MIrror%20TVL.png\"><img alt=\"\" src=\"https://messari.s3.amazonaws.com/images/agora-images/D1F4873D-Jun%20Yu%20MIrror%20TVL.png\"/></a></figure><p>5 months after launching on Dec 3 2020, Mirror Protocol has already accrued $2.1B TVL (including collateral, mAssets, LPs and staked MIR). There are some flaws with Mirror such as the fact that buying mAssets doesn’t entitle you to dividends or affect real-world demand in any way. Still, it’s early days and the team is already preparing to launch an updated Mirror V2 after taking in community feedback and suggestions.</p><p><strong><span>ANCHOR - A 20% Savings Account</span></strong></p><p>Anchor is the second major protocol to launch on Terra and possibly the most disruptive. Anchor stakes collateral from borrowers to offer lenders a fixed 20% annualized return on UST deposits. By staking on major PoS networks, Anchor is able to maintain a steady, cashflow-generating stream of revenue for depositors.</p><p>For most of us in crypto, 20% might be low-yield, but to most people outside of crypto, a 20% savings account is unheard of. In fact, most people and funds set their benchmark to be the S&amp;P500, which has an average return of 13.6% but widely volatile based on the time of entry and exit. This is in stark contrast to getting interest on a stablecoin deposit which doesn’t have the same price risks as equities. The TVL (including collateral and deposits) has reached $1B about a month after launching in late March.</p><figure><a data-lightbox=\"true\" href=\"https://messari.s3.amazonaws.com/images/agora-images/F315A8F1-Jun%20Yu%20ANC.png\"><img alt=\"\" src=\"https://messari.s3.amazonaws.com/images/agora-images/F315A8F1-Jun%20Yu%20ANC.png\"/></a></figure><p>The above setup is very similar to that of a traditional bank. There are 2 parties interacting with Anchor, the borrower and the depositor. The depositor’s deposit is used to fund the loans made by borrowers. Borrowers have to collateralize their loans with a maximum LTV (Loan-to-Value) of 50%. This collateral has to be a yield-generating asset, mainly Proof-of-Stake tokens, currently only LUNA. Here’s a quick walkthrough:</p><ol type=\"1\"><li>The depositor puts in $100 and expects to receive $20 in savings interest in a year</li><li>The borrower puts down $200 worth of LUNA as collateral and borrows up to $100 at 50% LTV. This $100 is supplied by the depositor’s funds.</li><li>The LUNA is staked by Anchor and the staking rewards go to Anchor. Let’s assume current staking rewards are 11% APR. At 11%, Anchor gets back $22.</li><li>$20 goes to the depositor as their yearly return and the excess $2 is put to Anchor’s treasury which serves as liquidity reserves or can be used for ANC buybacks in the future.</li></ol><p>This shows how Anchor can sustainably be a savings protocol that generates 20% APR for its depositors.</p><p>Anchor’s ultimate vision is to be the “Stripe of Savings”. The idea is for Anchor to be easily implemented in other payment apps or ecosystems. The platform using Anchor gains stickiness since all its users get access to a 20% savings account. A possible future example would be CHAI, merchants could just leave their cash flow in Anchor to generate 20% APY, a massive upgrade over the standard bank savings rate of &lt;1%. It would be commercial suicide for other payment apps (like Paypal, Square) to not adopt Anchor. When Anchor is able to adopt collateral from other PoS Layer 1s like ETH, SOL, DOT or ATOM, it would greatly increase exposure to other facets of the DeFi ecosystem and bring in more users.</p><p>In Anchor, depositors are the main priority. If there is a lack of liquidity, interest rates can be raised to incentivize debt repayment. Defaults or insolvency don’t happen because the collateralized assets get liquidated if the total Loan-To-Value ever goes above 50%.</p><p>One foreseeable issue with Anchor is that the inflationary rewards from proof-of-stake networks might decrease in the future so this might not be infinitely sustainable. Borrowers currently get a 40% net APR on their borrowed amount (not shown in the diagram but yes, you get paid to borrow) in the form of ANC tokens but it is unclear if borrowers will continue when these incentives run out in 4 years.</p><p><strong><span>Ecosystem Resilience - The whole is greater than the sum of its parts</span></strong></p><p>With the triple functions of payments (CHAI), savings (ANCHOR) and investments (MIRROR), Terra has built up a vibrant ecosystem with multiple uses for its stablecoins. It removes the basic issue of having to convert crypto back to fiat because there are merchants already willing to accept stablecoin payments on CHAI. As demand for these services grows, demand for UST and subsequently, price of LUNA grows.</p><figure><a data-lightbox=\"true\" href=\"https://messari.s3.amazonaws.com/images/agora-images/7FBF67F2-terra%20ecosystem2.png\"><img alt=\"\" src=\"https://messari.s3.amazonaws.com/images/agora-images/7FBF67F2-terra%20ecosystem2.png\"/></a></figure><p>When the price of LUNA grows, it enables Anchor borrowers to increase their leverage and borrow more UST, which enters the system and can be used to purchase assets on Mirror or to save in Anchor, which further boosts the demand for UST and then force-feeds into a virtuous cycle that reinforces the value of LUNA.</p><p>The resilience also comes in the form of market cycles. When the market is bullish, users will turn to equities and start using Mirror. When the market is bearish and people are wary of investments, they turn their assets back into cash and deposit it into Anchor’s 20% savings account, creating a flywheel that effectively retains and grows monetary inflows.</p><figure><a data-lightbox=\"true\" href=\"https://messari.s3.amazonaws.com/images/agora-images/A8E6E3AF-Jun%20Yu%20monetary%20flow.png\"><img alt=\"\" src=\"https://messari.s3.amazonaws.com/images/agora-images/A8E6E3AF-Jun%20Yu%20monetary%20flow.png\"/></a></figure><p><strong><span>Where is Terra headed?</span></strong></p><p>With a well-performing team and easily accessible products that deliver much more than traditional finance, Terra is becoming a disruptive force at the intersection of DeFi and TradFi. Terra’s upcoming plans include releasing an ETF protocol (Nebula) to further aggregate yield across the various synthetics and assets, building stronger UI experiences for users (Kash), and integrating with larger companies and fiat-to-crypto onramps (Local Terra) to make UST much more accessible for the general public. The Terra team moves fast and the ecosystem is constantly onboarding <span><a href=\"https://terra.smartstake.io/eco\" rel=\"noopener nofollow noreferrer\" target=\"_blank\">new projects</a></span>.</p><p>The main thread here is stickiness, usability and flexibility. The Terra ecosystem has appropriate incentives for users to either trade or provide liquidity. Terra is also built using the Cosmos SDK, allowing them to easily partner or work with other projects in the Cosmos ecosystem in the future. With the likes of Thorchain enabling cross-chain swaps and Secret Network enabling privacy-preserving smart contracts, it’s not difficult to imagine how Terra will form the financial LEGO blocks of the grander metropolitan vision of the Cosmos IBC ecosystem.</p></div>"
      ]
     },
     "execution_count": 107,
     "metadata": {},
     "output_type": "execute_result"
    }
   ],
   "source": [
    "main.find('div', attrs={'class': 'jss54 jss56'})"
   ]
  },
  {
   "cell_type": "code",
   "execution_count": 72,
   "id": "bfc96dba-bb65-4238-a146-446ab59dc25a",
   "metadata": {},
   "outputs": [],
   "source": [
    "elem = driver.find_element(By.XPATH, \"//div[@class='jss33']\")\n",
    "elem = driver.find_element(By.XPATH, \"//div[@class='jss54 jss56']\")"
   ]
  },
  {
   "cell_type": "code",
   "execution_count": 76,
   "id": "473101aa-f0e5-4df5-8d1c-3e53d9017d65",
   "metadata": {},
   "outputs": [
    {
     "ename": "AttributeError",
     "evalue": "'WebElement' object has no attribute 'page_source'",
     "output_type": "error",
     "traceback": [
      "\u001b[0;31m---------------------------------------------------------------------------\u001b[0m",
      "\u001b[0;31mAttributeError\u001b[0m                            Traceback (most recent call last)",
      "\u001b[0;32m/var/folders/4n/h7p57sb17sn7vtrtjz3m1xhr0000gn/T/ipykernel_8388/851895875.py\u001b[0m in \u001b[0;36m<module>\u001b[0;34m\u001b[0m\n\u001b[0;32m----> 1\u001b[0;31m \u001b[0melem\u001b[0m\u001b[0;34m.\u001b[0m\u001b[0mpage_source\u001b[0m\u001b[0;34m\u001b[0m\u001b[0;34m\u001b[0m\u001b[0m\n\u001b[0m",
      "\u001b[0;31mAttributeError\u001b[0m: 'WebElement' object has no attribute 'page_source'"
     ]
    }
   ],
   "source": [
    "elem.page_source"
   ]
  },
  {
   "cell_type": "code",
   "execution_count": 15,
   "id": "d81b961b-07de-4c93-89a1-40a5b0cb2779",
   "metadata": {
    "tags": []
   },
   "outputs": [],
   "source": [
    "import urllib.request\n",
    "response = urllib.request.urlopen(url)\n",
    "html = response.read()"
   ]
  },
  {
   "cell_type": "code",
   "execution_count": 16,
   "id": "ba1da379-fef0-458a-80dd-5a9244e787fd",
   "metadata": {
    "collapsed": true,
    "jupyter": {
     "outputs_hidden": true
    },
    "tags": []
   },
   "outputs": [
    {
     "data": {
      "text/plain": [
       "b'<!doctype html><html lang=\"en\"><head><meta charset=\"utf-8\"/><meta name=\"viewport\" content=\"width=device-width,initial-scale=1,shrink-to-fit=no,maximum-scale=1\"/><meta name=\"theme-color\" content=\"#000000\"/><link rel=\"manifest\" href=\"/manifest.json\"/><link rel=\"apple-touch-icon\" sizes=\"180x180\" href=\"/apple-touch-icon.png\"/><link rel=\"shortcut icon\" href=\"/favicon-96x96.png\"/><link rel=\"alternate\" type=\"application/rss+xml\" title=\"Messari Crypto News Feed\" href=\"https://messari.io/rss\"/><title>Messari - Bitcoin & crypto price, news, charts, and research</title><meta name=\"google-site-verification\" content=\"g9BAQ0QPz3z-nFOYtlwBMvlysVm5SPxCB6ghtHs0Wlw\"/><meta name=\"google-site-verification\" content=\"W2cUO8Zw2CD8KLXR-UP3NpJ3rE-vnUfHQkA5UQRxISE\"/><meta name=\"description\" content=\"Make smarter decisions. Messari gives you all the Bitcoin & crypto data, tools, and research you need.\" data-react-helmet=\"true\"/><meta property=\"og:url\" content=\"https://messari.io\"/><meta property=\"og:title\" content=\"Crypto Research, Data, and Tools\" data-react-helmet=\"true\"/><meta property=\"og:description\" content=\"Gain an edge over the crypto market with professional grade data, tools, and research.\" data-react-helmet=\"true\"/><meta property=\"og:image\" content=\"https://messari.io/images/opengraph/generic_2400_1254.png?v=2020-12-03\" data-react-helmet=\"true\"/><meta property=\"og:image:width\" content=\"1024\"/><meta property=\"og:image:height\" content=\"521\"/><meta property=\"og:type\" content=\"website\"/><meta property=\"fb:app_id\" content=\"2099513470121159\"/><meta name=\"twitter:card\" content=\"summary_large_image\"/><meta name=\"twitter:site\" content=\"@messaricrypto\"/><meta name=\"twitter:title\" content=\"Crypto Research, Data, and Tools\" data-react-helmet=\"true\"/><meta name=\"twitter:description\" content=\"Gain an edge over the crypto market with professional grade data, tools, and research.\" data-react-helmet=\"true\"/><meta name=\"twitter:image\" content=\"https://messari.io/images/opengraph/generic_2400_1254.png?v=2021-05-01\" data-react-helmet=\"true\"/><script type=\"application/ld+json\" id=\"structured-data\" data-react-helmet=\"true\">{\\n        \"@context\": \"http://schema.org\",\\n        \"@type\": \"Organization\",\\n        \"name\": \"Messari\",\\n        \"logo\": \"https://messari.github.io/images/logo_hor_small.png\",\\n        \"url\": \"https://messari.io/\",\\n        \"sameAs\": [\\n          \"https://twitter.com/messaricrypto\",\\n          \"https://www.linkedin.com/company/messari\",\\n          \"https://angel.co/messari\"\\n        ]\\n      }</script><link href=\"/static/css/main.878b445f.chunk.css\" rel=\"stylesheet\"></head><body><noscript>You need to enable JavaScript to run this app.</noscript><div id=\"root\"></div><script>!function(e){function c(c){for(var d,t,n=c[0],o=c[1],b=c[2],u=0,s=[];u<n.length;u++)t=n[u],Object.prototype.hasOwnProperty.call(a,t)&&a[t]&&s.push(a[t][0]),a[t]=0;for(d in o)Object.prototype.hasOwnProperty.call(o,d)&&(e[d]=o[d]);for(i&&i(c);s.length;)s.shift()();return r.push.apply(r,b||[]),f()}function f(){for(var e,c=0;c<r.length;c++){for(var f=r[c],d=!0,t=1;t<f.length;t++){var o=f[t];0!==a[o]&&(d=!1)}d&&(r.splice(c--,1),e=n(n.s=f[0]))}return e}var d={},t={25:0},a={25:0},r=[];function n(c){if(d[c])return d[c].exports;var f=d[c]={i:c,l:!1,exports:{}};return e[c].call(f.exports,f,f.exports,n),f.l=!0,f.exports}n.e=function(e){var c=[];t[e]?c.push(t[e]):0!==t[e]&&{7:1,26:1,27:1,30:1,37:1,39:1}[e]&&c.push(t[e]=new Promise((function(c,f){for(var d=\"static/css/\"+({}[e]||e)+\".\"+{0:\"31d6cfe0\",1:\"31d6cfe0\",2:\"31d6cfe0\",3:\"31d6cfe0\",4:\"31d6cfe0\",5:\"31d6cfe0\",6:\"31d6cfe0\",7:\"f10727d3\",8:\"31d6cfe0\",9:\"31d6cfe0\",10:\"31d6cfe0\",11:\"31d6cfe0\",12:\"31d6cfe0\",13:\"31d6cfe0\",14:\"31d6cfe0\",15:\"31d6cfe0\",16:\"31d6cfe0\",17:\"31d6cfe0\",18:\"31d6cfe0\",19:\"31d6cfe0\",20:\"31d6cfe0\",21:\"31d6cfe0\",22:\"31d6cfe0\",23:\"31d6cfe0\",26:\"cd4a3562\",27:\"20507c92\",29:\"31d6cfe0\",30:\"f10727d3\",31:\"31d6cfe0\",32:\"31d6cfe0\",33:\"31d6cfe0\",34:\"31d6cfe0\",35:\"31d6cfe0\",36:\"31d6cfe0\",37:\"90d45a71\",38:\"31d6cfe0\",39:\"7d73f7d4\",40:\"31d6cfe0\",41:\"31d6cfe0\",42:\"31d6cfe0\",43:\"31d6cfe0\",44:\"31d6cfe0\",45:\"31d6cfe0\",46:\"31d6cfe0\",47:\"31d6cfe0\",48:\"31d6cfe0\",49:\"31d6cfe0\",50:\"31d6cfe0\",51:\"31d6cfe0\",52:\"31d6cfe0\",53:\"31d6cfe0\",54:\"31d6cfe0\",55:\"31d6cfe0\",56:\"31d6cfe0\",57:\"31d6cfe0\",58:\"31d6cfe0\",59:\"31d6cfe0\",60:\"31d6cfe0\",61:\"31d6cfe0\",62:\"31d6cfe0\",63:\"31d6cfe0\",64:\"31d6cfe0\",65:\"31d6cfe0\",66:\"31d6cfe0\",67:\"31d6cfe0\",68:\"31d6cfe0\",69:\"31d6cfe0\",70:\"31d6cfe0\",71:\"31d6cfe0\",72:\"31d6cfe0\",73:\"31d6cfe0\",74:\"31d6cfe0\",75:\"31d6cfe0\",76:\"31d6cfe0\",77:\"31d6cfe0\",78:\"31d6cfe0\",79:\"31d6cfe0\",80:\"31d6cfe0\",81:\"31d6cfe0\",82:\"31d6cfe0\",83:\"31d6cfe0\",84:\"31d6cfe0\",85:\"31d6cfe0\",86:\"31d6cfe0\",87:\"31d6cfe0\",88:\"31d6cfe0\",89:\"31d6cfe0\",90:\"31d6cfe0\",91:\"31d6cfe0\",92:\"31d6cfe0\",93:\"31d6cfe0\",94:\"31d6cfe0\",95:\"31d6cfe0\",96:\"31d6cfe0\",97:\"31d6cfe0\",98:\"31d6cfe0\",99:\"31d6cfe0\",100:\"31d6cfe0\",101:\"31d6cfe0\",102:\"31d6cfe0\",103:\"31d6cfe0\",104:\"31d6cfe0\",105:\"31d6cfe0\",106:\"31d6cfe0\",107:\"31d6cfe0\",108:\"31d6cfe0\",109:\"31d6cfe0\",110:\"31d6cfe0\",111:\"31d6cfe0\",112:\"31d6cfe0\",113:\"31d6cfe0\",114:\"31d6cfe0\",115:\"31d6cfe0\",116:\"31d6cfe0\",117:\"31d6cfe0\",118:\"31d6cfe0\",119:\"31d6cfe0\",120:\"31d6cfe0\",121:\"31d6cfe0\",122:\"31d6cfe0\"}[e]+\".chunk.css\",a=n.p+d,r=document.getElementsByTagName(\"link\"),o=0;o<r.length;o++){var b=(i=r[o]).getAttribute(\"data-href\")||i.getAttribute(\"href\");if(\"stylesheet\"===i.rel&&(b===d||b===a))return c()}var u=document.getElementsByTagName(\"style\");for(o=0;o<u.length;o++){var i;if((b=(i=u[o]).getAttribute(\"data-href\"))===d||b===a)return c()}var s=document.createElement(\"link\");s.rel=\"stylesheet\",s.type=\"text/css\",s.onload=c,s.onerror=function(c){var d=c&&c.target&&c.target.src||a,r=new Error(\"Loading CSS chunk \"+e+\" failed.\\\\n(\"+d+\")\");r.code=\"CSS_CHUNK_LOAD_FAILED\",r.request=d,delete t[e],s.parentNode.removeChild(s),f(r)},s.href=a,document.getElementsByTagName(\"head\")[0].appendChild(s)})).then((function(){t[e]=0})));var f=a[e];if(0!==f)if(f)c.push(f[2]);else{var d=new Promise((function(c,d){f=a[e]=[c,d]}));c.push(f[2]=d);var r,o=document.createElement(\"script\");o.charset=\"utf-8\",o.timeout=120,n.nc&&o.setAttribute(\"nonce\",n.nc),o.src=function(e){return n.p+\"static/js/\"+({}[e]||e)+\".\"+{0:\"a912a65a\",1:\"2778ce39\",2:\"609718a8\",3:\"e90d1fcb\",4:\"2b8d6f6f\",5:\"12e6048d\",6:\"3a859a4f\",7:\"aa7d90ba\",8:\"c5746833\",9:\"ab9d2f27\",10:\"59d4fc68\",11:\"0e668bfc\",12:\"b5c6a054\",13:\"0430cb64\",14:\"52160631\",15:\"d48e8ab0\",16:\"2613e030\",17:\"71f9c3b2\",18:\"97b67513\",19:\"c2e726a2\",20:\"e8e4a59c\",21:\"241bd738\",22:\"e540df59\",23:\"cee6e2c9\",26:\"a8d2f9e6\",27:\"07876b83\",29:\"3e12b183\",30:\"5929a682\",31:\"d920d117\",32:\"6cd5a23f\",33:\"ab5e876b\",34:\"c8ffbd30\",35:\"57506b5b\",36:\"1fd747fe\",37:\"cafefc8e\",38:\"6a1fe668\",39:\"45ecefc7\",40:\"fcaa830d\",41:\"21e5b438\",42:\"b8330c9d\",43:\"51942279\",44:\"fefd0e08\",45:\"5fc4ae7d\",46:\"5da9a507\",47:\"71952c81\",48:\"9a20e4d9\",49:\"a7cfeef5\",50:\"cb6ae9ff\",51:\"b968739f\",52:\"9df8ca1b\",53:\"b31fe121\",54:\"da184acd\",55:\"6eb84b87\",56:\"c90b56ce\",57:\"e7830577\",58:\"0415a1e9\",59:\"fd4dfbe8\",60:\"ca61a49c\",61:\"6abce2aa\",62:\"b080295c\",63:\"ece660d6\",64:\"532267c6\",65:\"c86b8fa0\",66:\"b131de4b\",67:\"50ec4233\",68:\"3e6e8480\",69:\"c251516f\",70:\"31b3178a\",71:\"3933b26a\",72:\"880e186e\",73:\"328f96b7\",74:\"af0a5f59\",75:\"58de93b5\",76:\"e30ef557\",77:\"9ecaa78b\",78:\"824a8acc\",79:\"d7305c05\",80:\"99f72e89\",81:\"e295911f\",82:\"efbd56a6\",83:\"c414302b\",84:\"5b1b45ae\",85:\"cc29b9f5\",86:\"dbba925f\",87:\"33356bed\",88:\"98954354\",89:\"3694045a\",90:\"6bf89873\",91:\"be391d32\",92:\"5cfcdc5f\",93:\"fbd67413\",94:\"2b1188a8\",95:\"1c69bea2\",96:\"097f7c27\",97:\"f68bf7af\",98:\"1001cd37\",99:\"9f854e8a\",100:\"9760a346\",101:\"0c71f91f\",102:\"75bcfe66\",103:\"c66a0d13\",104:\"ac65c9b0\",105:\"0ce0f6fe\",106:\"68608ce9\",107:\"240bc1eb\",108:\"ee4f6e6a\",109:\"a4907e79\",110:\"ae4fd219\",111:\"3a7f4519\",112:\"508ea851\",113:\"5d737f02\",114:\"ee963cc0\",115:\"72893ef8\",116:\"d4a828d7\",117:\"4819f2f1\",118:\"124b7cab\",119:\"00736b36\",120:\"c0b271d9\",121:\"6e27d3d0\",122:\"d1f93689\"}[e]+\".chunk.js\"}(e);var b=new Error;r=function(c){o.onerror=o.onload=null,clearTimeout(u);var f=a[e];if(0!==f){if(f){var d=c&&(\"load\"===c.type?\"missing\":c.type),t=c&&c.target&&c.target.src;b.message=\"Loading chunk \"+e+\" failed.\\\\n(\"+d+\": \"+t+\")\",b.name=\"ChunkLoadError\",b.type=d,b.request=t,f[1](b)}a[e]=void 0}};var u=setTimeout((function(){r({type:\"timeout\",target:o})}),12e4);o.onerror=o.onload=r,document.head.appendChild(o)}return Promise.all(c)},n.m=e,n.c=d,n.d=function(e,c,f){n.o(e,c)||Object.defineProperty(e,c,{enumerable:!0,get:f})},n.r=function(e){\"undefined\"!=typeof Symbol&&Symbol.toStringTag&&Object.defineProperty(e,Symbol.toStringTag,{value:\"Module\"}),Object.defineProperty(e,\"__esModule\",{value:!0})},n.t=function(e,c){if(1&c&&(e=n(e)),8&c)return e;if(4&c&&\"object\"==typeof e&&e&&e.__esModule)return e;var f=Object.create(null);if(n.r(f),Object.defineProperty(f,\"default\",{enumerable:!0,value:e}),2&c&&\"string\"!=typeof e)for(var d in e)n.d(f,d,function(c){return e[c]}.bind(null,d));return f},n.n=function(e){var c=e&&e.__esModule?function(){return e.default}:function(){return e};return n.d(c,\"a\",c),c},n.o=function(e,c){return Object.prototype.hasOwnProperty.call(e,c)},n.p=\"/\",n.oe=function(e){throw console.error(e),e};var o=this[\"webpackJsonpmessari-app\"]=this[\"webpackJsonpmessari-app\"]||[],b=o.push.bind(o);o.push=c,o=o.slice();for(var u=0;u<o.length;u++)c(o[u]);var i=b;f()}([])</script><script src=\"/static/js/28.77b83a05.chunk.js\"></script><script src=\"/static/js/main.09f19d7c.chunk.js\"></script></body><script>var isIE11=!!window.MSInputMethodContext&&!!document.documentMode;isIE11&&(document.body.innerHTML=\"<div style=\\'margin: 30px auto; width: 640px; font-size: 36px;\\'>Error: Messari.io does not support IE11</div>\")</script></html>'"
      ]
     },
     "execution_count": 16,
     "metadata": {},
     "output_type": "execute_result"
    }
   ],
   "source": [
    "html"
   ]
  },
  {
   "cell_type": "code",
   "execution_count": 20,
   "id": "66e01e4e-0f0c-48e7-87f7-e2ba1a2f685d",
   "metadata": {},
   "outputs": [],
   "source": [
    "url = 'https://messari.io/article/terra-the-defi-giant-reaching-mainstream-adoption'\n",
    "headers = {'User-Agent': 'Mozilla/5.0 (Macintosh; Intel Mac OS X 10_10_1) AppleWebKit/537.36 (KHTML, like Gecko) Chrome/39.0.2171.95 Safari/537.36'}"
   ]
  },
  {
   "cell_type": "code",
   "execution_count": 23,
   "id": "146b072c-6ddf-4e71-85cd-37f63dfa97e1",
   "metadata": {},
   "outputs": [],
   "source": [
    "article = requests.get(url, headers=headers)"
   ]
  },
  {
   "cell_type": "code",
   "execution_count": 26,
   "id": "5ec5a71e-c4f8-48be-8136-67ec0f8ec6da",
   "metadata": {},
   "outputs": [
    {
     "data": {
      "text/plain": [
       "b'<!doctype html><html lang=\"en\"><head><meta charset=\"utf-8\"/><meta name=\"viewport\" content=\"width=device-width,initial-scale=1,shrink-to-fit=no,maximum-scale=1\"/><meta name=\"theme-color\" content=\"#000000\"/><link rel=\"manifest\" href=\"/manifest.json\"/><link rel=\"apple-touch-icon\" sizes=\"180x180\" href=\"/apple-touch-icon.png\"/><link rel=\"shortcut icon\" href=\"/favicon-96x96.png\"/><link rel=\"alternate\" type=\"application/rss+xml\" title=\"Messari Crypto News Feed\" href=\"https://messari.io/rss\"/><title>Messari - Bitcoin & crypto price, news, charts, and research</title><meta name=\"google-site-verification\" content=\"g9BAQ0QPz3z-nFOYtlwBMvlysVm5SPxCB6ghtHs0Wlw\"/><meta name=\"google-site-verification\" content=\"W2cUO8Zw2CD8KLXR-UP3NpJ3rE-vnUfHQkA5UQRxISE\"/><meta name=\"description\" content=\"Make smarter decisions. Messari gives you all the Bitcoin & crypto data, tools, and research you need.\" data-react-helmet=\"true\"/><meta property=\"og:url\" content=\"https://messari.io\"/><meta property=\"og:title\" content=\"Crypto Research, Data, and Tools\" data-react-helmet=\"true\"/><meta property=\"og:description\" content=\"Gain an edge over the crypto market with professional grade data, tools, and research.\" data-react-helmet=\"true\"/><meta property=\"og:image\" content=\"https://messari.io/images/opengraph/generic_2400_1254.png?v=2020-12-03\" data-react-helmet=\"true\"/><meta property=\"og:image:width\" content=\"1024\"/><meta property=\"og:image:height\" content=\"521\"/><meta property=\"og:type\" content=\"website\"/><meta property=\"fb:app_id\" content=\"2099513470121159\"/><meta name=\"twitter:card\" content=\"summary_large_image\"/><meta name=\"twitter:site\" content=\"@messaricrypto\"/><meta name=\"twitter:title\" content=\"Crypto Research, Data, and Tools\" data-react-helmet=\"true\"/><meta name=\"twitter:description\" content=\"Gain an edge over the crypto market with professional grade data, tools, and research.\" data-react-helmet=\"true\"/><meta name=\"twitter:image\" content=\"https://messari.io/images/opengraph/generic_2400_1254.png?v=2021-05-01\" data-react-helmet=\"true\"/><script type=\"application/ld+json\" id=\"structured-data\" data-react-helmet=\"true\">{\\n        \"@context\": \"http://schema.org\",\\n        \"@type\": \"Organization\",\\n        \"name\": \"Messari\",\\n        \"logo\": \"https://messari.github.io/images/logo_hor_small.png\",\\n        \"url\": \"https://messari.io/\",\\n        \"sameAs\": [\\n          \"https://twitter.com/messaricrypto\",\\n          \"https://www.linkedin.com/company/messari\",\\n          \"https://angel.co/messari\"\\n        ]\\n      }</script><link href=\"/static/css/main.878b445f.chunk.css\" rel=\"stylesheet\"></head><body><noscript>You need to enable JavaScript to run this app.</noscript><div id=\"root\"></div><script>!function(e){function c(c){for(var d,t,n=c[0],o=c[1],b=c[2],u=0,s=[];u<n.length;u++)t=n[u],Object.prototype.hasOwnProperty.call(a,t)&&a[t]&&s.push(a[t][0]),a[t]=0;for(d in o)Object.prototype.hasOwnProperty.call(o,d)&&(e[d]=o[d]);for(i&&i(c);s.length;)s.shift()();return r.push.apply(r,b||[]),f()}function f(){for(var e,c=0;c<r.length;c++){for(var f=r[c],d=!0,t=1;t<f.length;t++){var o=f[t];0!==a[o]&&(d=!1)}d&&(r.splice(c--,1),e=n(n.s=f[0]))}return e}var d={},t={25:0},a={25:0},r=[];function n(c){if(d[c])return d[c].exports;var f=d[c]={i:c,l:!1,exports:{}};return e[c].call(f.exports,f,f.exports,n),f.l=!0,f.exports}n.e=function(e){var c=[];t[e]?c.push(t[e]):0!==t[e]&&{7:1,26:1,27:1,30:1,37:1,39:1}[e]&&c.push(t[e]=new Promise((function(c,f){for(var d=\"static/css/\"+({}[e]||e)+\".\"+{0:\"31d6cfe0\",1:\"31d6cfe0\",2:\"31d6cfe0\",3:\"31d6cfe0\",4:\"31d6cfe0\",5:\"31d6cfe0\",6:\"31d6cfe0\",7:\"f10727d3\",8:\"31d6cfe0\",9:\"31d6cfe0\",10:\"31d6cfe0\",11:\"31d6cfe0\",12:\"31d6cfe0\",13:\"31d6cfe0\",14:\"31d6cfe0\",15:\"31d6cfe0\",16:\"31d6cfe0\",17:\"31d6cfe0\",18:\"31d6cfe0\",19:\"31d6cfe0\",20:\"31d6cfe0\",21:\"31d6cfe0\",22:\"31d6cfe0\",23:\"31d6cfe0\",26:\"cd4a3562\",27:\"20507c92\",29:\"31d6cfe0\",30:\"f10727d3\",31:\"31d6cfe0\",32:\"31d6cfe0\",33:\"31d6cfe0\",34:\"31d6cfe0\",35:\"31d6cfe0\",36:\"31d6cfe0\",37:\"90d45a71\",38:\"31d6cfe0\",39:\"7d73f7d4\",40:\"31d6cfe0\",41:\"31d6cfe0\",42:\"31d6cfe0\",43:\"31d6cfe0\",44:\"31d6cfe0\",45:\"31d6cfe0\",46:\"31d6cfe0\",47:\"31d6cfe0\",48:\"31d6cfe0\",49:\"31d6cfe0\",50:\"31d6cfe0\",51:\"31d6cfe0\",52:\"31d6cfe0\",53:\"31d6cfe0\",54:\"31d6cfe0\",55:\"31d6cfe0\",56:\"31d6cfe0\",57:\"31d6cfe0\",58:\"31d6cfe0\",59:\"31d6cfe0\",60:\"31d6cfe0\",61:\"31d6cfe0\",62:\"31d6cfe0\",63:\"31d6cfe0\",64:\"31d6cfe0\",65:\"31d6cfe0\",66:\"31d6cfe0\",67:\"31d6cfe0\",68:\"31d6cfe0\",69:\"31d6cfe0\",70:\"31d6cfe0\",71:\"31d6cfe0\",72:\"31d6cfe0\",73:\"31d6cfe0\",74:\"31d6cfe0\",75:\"31d6cfe0\",76:\"31d6cfe0\",77:\"31d6cfe0\",78:\"31d6cfe0\",79:\"31d6cfe0\",80:\"31d6cfe0\",81:\"31d6cfe0\",82:\"31d6cfe0\",83:\"31d6cfe0\",84:\"31d6cfe0\",85:\"31d6cfe0\",86:\"31d6cfe0\",87:\"31d6cfe0\",88:\"31d6cfe0\",89:\"31d6cfe0\",90:\"31d6cfe0\",91:\"31d6cfe0\",92:\"31d6cfe0\",93:\"31d6cfe0\",94:\"31d6cfe0\",95:\"31d6cfe0\",96:\"31d6cfe0\",97:\"31d6cfe0\",98:\"31d6cfe0\",99:\"31d6cfe0\",100:\"31d6cfe0\",101:\"31d6cfe0\",102:\"31d6cfe0\",103:\"31d6cfe0\",104:\"31d6cfe0\",105:\"31d6cfe0\",106:\"31d6cfe0\",107:\"31d6cfe0\",108:\"31d6cfe0\",109:\"31d6cfe0\",110:\"31d6cfe0\",111:\"31d6cfe0\",112:\"31d6cfe0\",113:\"31d6cfe0\",114:\"31d6cfe0\",115:\"31d6cfe0\",116:\"31d6cfe0\",117:\"31d6cfe0\",118:\"31d6cfe0\",119:\"31d6cfe0\",120:\"31d6cfe0\",121:\"31d6cfe0\",122:\"31d6cfe0\"}[e]+\".chunk.css\",a=n.p+d,r=document.getElementsByTagName(\"link\"),o=0;o<r.length;o++){var b=(i=r[o]).getAttribute(\"data-href\")||i.getAttribute(\"href\");if(\"stylesheet\"===i.rel&&(b===d||b===a))return c()}var u=document.getElementsByTagName(\"style\");for(o=0;o<u.length;o++){var i;if((b=(i=u[o]).getAttribute(\"data-href\"))===d||b===a)return c()}var s=document.createElement(\"link\");s.rel=\"stylesheet\",s.type=\"text/css\",s.onload=c,s.onerror=function(c){var d=c&&c.target&&c.target.src||a,r=new Error(\"Loading CSS chunk \"+e+\" failed.\\\\n(\"+d+\")\");r.code=\"CSS_CHUNK_LOAD_FAILED\",r.request=d,delete t[e],s.parentNode.removeChild(s),f(r)},s.href=a,document.getElementsByTagName(\"head\")[0].appendChild(s)})).then((function(){t[e]=0})));var f=a[e];if(0!==f)if(f)c.push(f[2]);else{var d=new Promise((function(c,d){f=a[e]=[c,d]}));c.push(f[2]=d);var r,o=document.createElement(\"script\");o.charset=\"utf-8\",o.timeout=120,n.nc&&o.setAttribute(\"nonce\",n.nc),o.src=function(e){return n.p+\"static/js/\"+({}[e]||e)+\".\"+{0:\"a912a65a\",1:\"2778ce39\",2:\"609718a8\",3:\"e90d1fcb\",4:\"2b8d6f6f\",5:\"12e6048d\",6:\"3a859a4f\",7:\"aa7d90ba\",8:\"c5746833\",9:\"ab9d2f27\",10:\"59d4fc68\",11:\"0e668bfc\",12:\"b5c6a054\",13:\"0430cb64\",14:\"52160631\",15:\"d48e8ab0\",16:\"2613e030\",17:\"71f9c3b2\",18:\"97b67513\",19:\"c2e726a2\",20:\"e8e4a59c\",21:\"241bd738\",22:\"e540df59\",23:\"cee6e2c9\",26:\"a8d2f9e6\",27:\"07876b83\",29:\"3e12b183\",30:\"5929a682\",31:\"d920d117\",32:\"6cd5a23f\",33:\"ab5e876b\",34:\"c8ffbd30\",35:\"57506b5b\",36:\"1fd747fe\",37:\"cafefc8e\",38:\"6a1fe668\",39:\"45ecefc7\",40:\"fcaa830d\",41:\"21e5b438\",42:\"b8330c9d\",43:\"51942279\",44:\"fefd0e08\",45:\"5fc4ae7d\",46:\"5da9a507\",47:\"71952c81\",48:\"9a20e4d9\",49:\"a7cfeef5\",50:\"cb6ae9ff\",51:\"b968739f\",52:\"9df8ca1b\",53:\"b31fe121\",54:\"da184acd\",55:\"6eb84b87\",56:\"c90b56ce\",57:\"e7830577\",58:\"0415a1e9\",59:\"fd4dfbe8\",60:\"ca61a49c\",61:\"6abce2aa\",62:\"b080295c\",63:\"ece660d6\",64:\"532267c6\",65:\"c86b8fa0\",66:\"b131de4b\",67:\"50ec4233\",68:\"3e6e8480\",69:\"c251516f\",70:\"31b3178a\",71:\"3933b26a\",72:\"880e186e\",73:\"328f96b7\",74:\"af0a5f59\",75:\"58de93b5\",76:\"e30ef557\",77:\"9ecaa78b\",78:\"824a8acc\",79:\"d7305c05\",80:\"99f72e89\",81:\"e295911f\",82:\"efbd56a6\",83:\"c414302b\",84:\"5b1b45ae\",85:\"cc29b9f5\",86:\"dbba925f\",87:\"33356bed\",88:\"98954354\",89:\"3694045a\",90:\"6bf89873\",91:\"be391d32\",92:\"5cfcdc5f\",93:\"fbd67413\",94:\"2b1188a8\",95:\"1c69bea2\",96:\"097f7c27\",97:\"f68bf7af\",98:\"1001cd37\",99:\"9f854e8a\",100:\"9760a346\",101:\"0c71f91f\",102:\"75bcfe66\",103:\"c66a0d13\",104:\"ac65c9b0\",105:\"0ce0f6fe\",106:\"68608ce9\",107:\"240bc1eb\",108:\"ee4f6e6a\",109:\"a4907e79\",110:\"ae4fd219\",111:\"3a7f4519\",112:\"508ea851\",113:\"5d737f02\",114:\"ee963cc0\",115:\"72893ef8\",116:\"d4a828d7\",117:\"4819f2f1\",118:\"124b7cab\",119:\"00736b36\",120:\"c0b271d9\",121:\"6e27d3d0\",122:\"d1f93689\"}[e]+\".chunk.js\"}(e);var b=new Error;r=function(c){o.onerror=o.onload=null,clearTimeout(u);var f=a[e];if(0!==f){if(f){var d=c&&(\"load\"===c.type?\"missing\":c.type),t=c&&c.target&&c.target.src;b.message=\"Loading chunk \"+e+\" failed.\\\\n(\"+d+\": \"+t+\")\",b.name=\"ChunkLoadError\",b.type=d,b.request=t,f[1](b)}a[e]=void 0}};var u=setTimeout((function(){r({type:\"timeout\",target:o})}),12e4);o.onerror=o.onload=r,document.head.appendChild(o)}return Promise.all(c)},n.m=e,n.c=d,n.d=function(e,c,f){n.o(e,c)||Object.defineProperty(e,c,{enumerable:!0,get:f})},n.r=function(e){\"undefined\"!=typeof Symbol&&Symbol.toStringTag&&Object.defineProperty(e,Symbol.toStringTag,{value:\"Module\"}),Object.defineProperty(e,\"__esModule\",{value:!0})},n.t=function(e,c){if(1&c&&(e=n(e)),8&c)return e;if(4&c&&\"object\"==typeof e&&e&&e.__esModule)return e;var f=Object.create(null);if(n.r(f),Object.defineProperty(f,\"default\",{enumerable:!0,value:e}),2&c&&\"string\"!=typeof e)for(var d in e)n.d(f,d,function(c){return e[c]}.bind(null,d));return f},n.n=function(e){var c=e&&e.__esModule?function(){return e.default}:function(){return e};return n.d(c,\"a\",c),c},n.o=function(e,c){return Object.prototype.hasOwnProperty.call(e,c)},n.p=\"/\",n.oe=function(e){throw console.error(e),e};var o=this[\"webpackJsonpmessari-app\"]=this[\"webpackJsonpmessari-app\"]||[],b=o.push.bind(o);o.push=c,o=o.slice();for(var u=0;u<o.length;u++)c(o[u]);var i=b;f()}([])</script><script src=\"/static/js/28.77b83a05.chunk.js\"></script><script src=\"/static/js/main.09f19d7c.chunk.js\"></script></body><script>var isIE11=!!window.MSInputMethodContext&&!!document.documentMode;isIE11&&(document.body.innerHTML=\"<div style=\\'margin: 30px auto; width: 640px; font-size: 36px;\\'>Error: Messari.io does not support IE11</div>\")</script></html>'"
      ]
     },
     "execution_count": 26,
     "metadata": {},
     "output_type": "execute_result"
    }
   ],
   "source": [
    "article.content"
   ]
  },
  {
   "cell_type": "code",
   "execution_count": 4,
   "id": "8643315d-3962-4f57-8d52-027f08a9cdb1",
   "metadata": {},
   "outputs": [],
   "source": [
    "a = 'tes.t.t..t.jpg'"
   ]
  },
  {
   "cell_type": "code",
   "execution_count": 5,
   "id": "7800dd9a-e85a-4c37-8ae4-e2e75270c30c",
   "metadata": {},
   "outputs": [
    {
     "data": {
      "text/plain": [
       "'.jpg'"
      ]
     },
     "execution_count": 5,
     "metadata": {},
     "output_type": "execute_result"
    }
   ],
   "source": [
    "a[a.rfind('.'):]"
   ]
  },
  {
   "cell_type": "code",
   "execution_count": null,
   "id": "f677050b-37fe-4368-9949-bd02de611155",
   "metadata": {},
   "outputs": [],
   "source": []
  }
 ],
 "metadata": {
  "kernelspec": {
   "display_name": "Python 3 (ipykernel)",
   "language": "python",
   "name": "python3"
  },
  "language_info": {
   "codemirror_mode": {
    "name": "ipython",
    "version": 3
   },
   "file_extension": ".py",
   "mimetype": "text/x-python",
   "name": "python",
   "nbconvert_exporter": "python",
   "pygments_lexer": "ipython3",
   "version": "3.9.7"
  }
 },
 "nbformat": 4,
 "nbformat_minor": 5
}
