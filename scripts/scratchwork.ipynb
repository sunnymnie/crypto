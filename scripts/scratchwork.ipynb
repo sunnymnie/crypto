{
 "cells": [
  {
   "cell_type": "markdown",
   "id": "5d3b3014-3be7-4118-ab00-648f11b151e5",
   "metadata": {},
   "source": [
    "# Portfolio"
   ]
  },
  {
   "cell_type": "code",
   "execution_count": 1,
   "id": "f1c7392f-4f9b-433d-a72e-7c9a594282ba",
   "metadata": {},
   "outputs": [],
   "source": [
    "import requests\n",
    "import json\n",
    "import urllib.request"
   ]
  },
  {
   "cell_type": "code",
   "execution_count": 114,
   "id": "ea35a98a-180a-49ae-88eb-2ab366cf9e45",
   "metadata": {},
   "outputs": [],
   "source": [
    "import portfolio as p"
   ]
  },
  {
   "cell_type": "code",
   "execution_count": 62,
   "id": "6ea6eb93-66b8-4607-ac6b-9d2683f03856",
   "metadata": {},
   "outputs": [],
   "source": [
    "s = p.get_portfolio()"
   ]
  },
  {
   "cell_type": "code",
   "execution_count": 64,
   "id": "769f8af6-5663-4dde-8dc6-f2c1b3c607c2",
   "metadata": {},
   "outputs": [],
   "source": [
    "def add_token(s, token, coingecko, network, address, decimals, asset=True):\n",
    "    \"\"\"\n",
    "    - s is portfolio.json\n",
    "    - token: RPL\n",
    "    - coingecko: rocket-pool\n",
    "    - network: arbitrum\n",
    "    - address: 0x...\n",
    "    - asset if asset, else debt\n",
    "    \"\"\"\n",
    "    token_type = \"asset\" if asset else \"debt\"\n",
    "    token = token.lower()\n",
    "    if token not in s[token_type].keys():\n",
    "        s[token_type][token] = {}\n",
    "    s[token_type][token][\"coingecko\"] = coingecko\n",
    "    s[token_type][token][network] = address\n",
    "    s[token_type][token][\"decimals\"] = decimals"
   ]
  },
  {
   "cell_type": "code",
   "execution_count": 65,
   "id": "ffb56141-cd4a-4a34-8d66-574815e51868",
   "metadata": {},
   "outputs": [],
   "source": [
    "add_token(s, \"rpl\", \"rocket-pool\", \"arbitrum\", \"0xB766039cc6DB368759C1E56B79AFfE831d0Cc507\", 18, asset=True)"
   ]
  },
  {
   "cell_type": "code",
   "execution_count": 142,
   "id": "a8dbb364-8732-4757-9403-2b808a78bf3c",
   "metadata": {},
   "outputs": [],
   "source": [
    "s[\"debt\"][\"btc\"][\"decimals\"] = 8"
   ]
  },
  {
   "cell_type": "code",
   "execution_count": 87,
   "id": "1d40dd34-aee9-4a61-8319-1542022ce3b8",
   "metadata": {},
   "outputs": [],
   "source": [
    "s[\"debt\"] = {}\n",
    "# s[\"asset\"][\"usdc\"] = {}\n",
    "# s[\"debt\"][\"optimism\"] = {}\n",
    "# s[\"debt\"][\"polygon\"] = {}"
   ]
  },
  {
   "cell_type": "code",
   "execution_count": null,
   "id": "34c928d6-abfa-419a-a16d-a9c114a26a7a",
   "metadata": {},
   "outputs": [],
   "source": [
    "s[\"asset\"][\"usdc\"] = {}"
   ]
  },
  {
   "cell_type": "code",
   "execution_count": 69,
   "id": "8b4d11c1-b9ce-4df5-b258-7ba137b8d9ea",
   "metadata": {},
   "outputs": [],
   "source": [
    "# s[\"debt\"] = {}\n",
    "# s[\"debt\"][\"arbitrum\"] = {}\n",
    "# s[\"debt\"][\"optimism\"] = {}\n",
    "# s[\"debt\"][\"polygon\"] = {}"
   ]
  },
  {
   "cell_type": "code",
   "execution_count": 70,
   "id": "47a2574c-638e-4ca3-9490-11e985154001",
   "metadata": {},
   "outputs": [],
   "source": [
    "s[\"debt\"][\"polygon\"][\"btc\"] = \"0x92b42c66840c7ad907b4bf74879ff3ef7c529473\""
   ]
  },
  {
   "cell_type": "code",
   "execution_count": 66,
   "id": "f0c89def-0644-418c-8e5c-44beba0436fc",
   "metadata": {},
   "outputs": [],
   "source": [
    "p.save_portfolio(s)"
   ]
  },
  {
   "cell_type": "code",
   "execution_count": 92,
   "id": "95ce0dc4-cc3c-4f46-bb44-adbd0e15905c",
   "metadata": {},
   "outputs": [
    {
     "data": {
      "text/plain": [
       "2.363816466036041"
      ]
     },
     "execution_count": 92,
     "metadata": {},
     "output_type": "execute_result"
    }
   ],
   "source": [
    "p.wallet_balance(s[\"chains\"][\"polygon\"], s[\"wallets\"][\"main\"], \"0xe50fa9b3c56ffb159cb0fca61f5c9d750e8128c8\", 18)"
   ]
  },
  {
   "cell_type": "code",
   "execution_count": 124,
   "id": "17bb527a-5534-446a-ac67-867ff1d2e374",
   "metadata": {},
   "outputs": [],
   "source": [
    "def generate_prices(s):\n",
    "    prices = set([])\n",
    "    for k in s['asset']:\n",
    "        prices.add(s['asset'][k]['coingecko'])\n",
    "    for k in s['debt']:\n",
    "        prices.add(s['debt'][k]['coingecko'])\n",
    "    prices = dict.fromkeys(prices, 0)\n",
    "    for k in prices:\n",
    "        prices[k] = coingecko_price(k)\n",
    "    return prices"
   ]
  },
  {
   "cell_type": "code",
   "execution_count": null,
   "id": "31fe6f42-f7f8-4d8c-ad81-cc833b6f1909",
   "metadata": {},
   "outputs": [],
   "source": [
    "p.wallet_balance(s[\"chains\"][\"polygon\"], s[\"wallets\"][\"main\"], \"0xe50fa9b3c56ffb159cb0fca61f5c9d750e8128c8\", 18)\n"
   ]
  },
  {
   "cell_type": "code",
   "execution_count": 7,
   "id": "a4a0cad3-b760-4cfb-baa9-7bff6614e4c9",
   "metadata": {},
   "outputs": [],
   "source": [
    "def generate_amounts(s, wallet):\n",
    "    amounts = {\"asset\":{\"eth\":0}, \"debt\":{}}\n",
    "    for t in ['asset', 'debt']:\n",
    "        for k in s[t].keys():\n",
    "            a = s[t][k]\n",
    "            amounts[t][k] = 0\n",
    "            for c in a.keys():\n",
    "                if c not in s[\"chains\"].keys(): continue\n",
    "                amounts[t][k] += p.wallet_balance(s['chains'][c], wallet, a[c], a[\"decimals\"])\n",
    "    for c in [\"optimism\", \"arbitrum\"]:\n",
    "        amounts[\"asset\"][\"eth\"] += p.eth_balance(s[\"chains\"][c], wallet)\n",
    "    return amounts\n",
    "            \n",
    "    "
   ]
  },
  {
   "cell_type": "code",
   "execution_count": 70,
   "id": "d4383310-9185-493e-bf8c-5bf72f711acc",
   "metadata": {},
   "outputs": [],
   "source": [
    "a = generate_amounts(s, s[\"wallets\"][\"main\"])"
   ]
  },
  {
   "cell_type": "code",
   "execution_count": 71,
   "id": "bd1bd917-ab6f-447b-8e7c-dd868c03c5b3",
   "metadata": {},
   "outputs": [
    {
     "data": {
      "text/plain": [
       "{'asset': {'eth': 0.9962923862731996,\n",
       "  'usdc': 0.0,\n",
       "  'aweth': 2.363829489993154,\n",
       "  'rpl': 26.210720631654},\n",
       " 'debt': {'btc': 0.07241783}}"
      ]
     },
     "execution_count": 71,
     "metadata": {},
     "output_type": "execute_result"
    }
   ],
   "source": [
    "a"
   ]
  },
  {
   "cell_type": "code",
   "execution_count": 125,
   "id": "f1c7e5bc-69a5-4434-adb0-4d7956bdb51a",
   "metadata": {},
   "outputs": [],
   "source": [
    "def coingecko_price(name):\n",
    "    res = requests.get(f\"https://api.coingecko.com/api/v3/coins/{name}?tickers=false&community_data=false&developer_data=false\").json()\n",
    "    return float(res[\"market_data\"][\"current_price\"][\"usd\"])"
   ]
  },
  {
   "cell_type": "code",
   "execution_count": 67,
   "id": "8e4b2477-8e6e-417e-a989-2478531ae127",
   "metadata": {},
   "outputs": [],
   "source": [
    "prices = p.generate_prices(s)"
   ]
  },
  {
   "cell_type": "code",
   "execution_count": 68,
   "id": "1479dd30-de0c-4da2-ba0e-e416f5ea7bb4",
   "metadata": {},
   "outputs": [
    {
     "data": {
      "text/plain": [
       "{'bitcoin': 19797.48,\n",
       " 'rocket-pool': 23.71,\n",
       " 'ethereum': 1555.72,\n",
       " 'usd-coin': 1.001}"
      ]
     },
     "execution_count": 68,
     "metadata": {},
     "output_type": "execute_result"
    }
   ],
   "source": [
    "prices"
   ]
  },
  {
   "cell_type": "code",
   "execution_count": 69,
   "id": "608faf9c-d0d3-4cb6-aa95-86e5c0d673ed",
   "metadata": {},
   "outputs": [],
   "source": [
    "def calculate_position(s, a, p):\n",
    "    for t in ['asset', 'debt']:\n",
    "        for k,v in a[t].items():\n",
    "            a[t][k] = v*p[s[t][k]['coingecko']]"
   ]
  },
  {
   "cell_type": "code",
   "execution_count": 72,
   "id": "3bf5262c-d98c-4c33-a2dd-9693b727c96a",
   "metadata": {},
   "outputs": [],
   "source": [
    "pos = calculate_position(s, a, prices)"
   ]
  },
  {
   "cell_type": "code",
   "execution_count": 73,
   "id": "dafaf241-5e9a-492a-89c0-f37f67cdb865",
   "metadata": {},
   "outputs": [
    {
     "data": {
      "text/plain": [
       "{'asset': {'eth': 1549.9519911729421,\n",
       "  'usdc': 0.0,\n",
       "  'aweth': 3677.4568141721497,\n",
       "  'rpl': 621.4561861765163},\n",
       " 'debt': {'btc': 1433.6905410684}}"
      ]
     },
     "execution_count": 73,
     "metadata": {},
     "output_type": "execute_result"
    }
   ],
   "source": [
    "a"
   ]
  },
  {
   "cell_type": "code",
   "execution_count": 76,
   "id": "d8a54a7e-93ac-42c6-a7ed-079c468a50ae",
   "metadata": {},
   "outputs": [],
   "source": [
    "class colors:\n",
    "    PURPLE = '\\033[95m'\n",
    "    BLUE = '\\033[94m'\n",
    "    CYAN = '\\033[96m'\n",
    "    GREEN = '\\033[92m'\n",
    "    YELLOW = '\\033[93m'\n",
    "    RED = '\\033[91m'\n",
    "    ENDC = '\\033[0m'\n",
    "    BOLD = '\\033[1m'\n",
    "    UNDERLINE = '\\033[4m'"
   ]
  },
  {
   "cell_type": "code",
   "execution_count": 82,
   "id": "33dcd952-b733-41ff-b179-7d49b61110be",
   "metadata": {},
   "outputs": [
    {
     "name": "stdout",
     "output_type": "stream",
     "text": [
      "\u001b[1mtest asdfadsf asdfaASDFASDF\u001b[0m\n"
     ]
    }
   ],
   "source": [
    "print(colors.BOLD + \"test asdfadsf asdfaASDFASDF\" + colors.ENDC)"
   ]
  },
  {
   "cell_type": "code",
   "execution_count": 229,
   "id": "53a5fce9-03e7-47ff-8446-ee8398c10fa4",
   "metadata": {},
   "outputs": [
    {
     "data": {
      "text/plain": [
       "dict_keys(['eth', 'usdc', 'aweth', 'rpl', 'btc'])"
      ]
     },
     "execution_count": 229,
     "metadata": {},
     "output_type": "execute_result"
    }
   ],
   "source": [
    "{**a['asset'], **a['debt']}.keys()"
   ]
  },
  {
   "cell_type": "code",
   "execution_count": 197,
   "id": "d8af0bcf-7096-4006-adf7-045f49231a26",
   "metadata": {},
   "outputs": [],
   "source": [
    "def print_main_portfolio(s, a, eth):\n",
    "    total = 0\n",
    "    for k in a['asset']:\n",
    "        total += a['asset'][k]\n",
    "    print_statements = []\n",
    "    print_statements.append(colors.BOLD + \"MAIN\" + colors.ENDC)\n",
    "\n",
    "    max_len_token = max(list(map(lambda x: len(x), (a['asset'] | a['debt']).keys())))\n",
    "    print_statements.append(colors.UNDERLINE + \"ASSETS\" + colors.ENDC)\n",
    "    for k in a['asset']:\n",
    "        if a['asset'][k] == 0: continue\n",
    "        text = f\"{k}: {(max_len_token+1-len(k))*' '}{colors.GREEN}{round(a['asset'][k]/eth, 3)}Ξ{colors.ENDC}\"\n",
    "        text = f\"{text}{' '*(28-len(text))}{int(a['asset'][k]*100/total)}%\"\n",
    "        print_statements.append(text)\n",
    "    if len(a['debt']) > 0: print_statements.append(colors.UNDERLINE + \"DEBT\" + colors.ENDC)\n",
    "    for k in a['debt']:\n",
    "        if a['debt'][k] == 0: continue\n",
    "        text = f\"{k}: {(max_len_token-len(k))*' '}{colors.RED}-{round(a['debt'][k]/eth, 3)}Ξ{colors.ENDC}\"\n",
    "        print_statements.append(text)\n",
    "        \n",
    "    for k in a['debt']:\n",
    "        total -= a['debt'][k]\n",
    "    print_statements.append(f\"TOTAL: {round(total/eth, 3)}Ξ\")\n",
    "    return print_statements"
   ]
  },
  {
   "cell_type": "code",
   "execution_count": 198,
   "id": "5bc92037-fed4-4503-bd10-74241f27c604",
   "metadata": {},
   "outputs": [],
   "source": [
    "def print_trade_portfolio(s, trade, play, eth):\n",
    "    \n",
    "    total = 0\n",
    "    for k in trade['asset']:\n",
    "        total += trade['asset'][k]\n",
    "    for k in play['asset']:\n",
    "        total += play['asset'][k]\n",
    "        \n",
    "    print_statements = []\n",
    "        \n",
    "    print_statements.append(colors.BOLD + \"FUN\" + colors.ENDC)\n",
    "    for k in play['asset']:\n",
    "        if play['asset'][k] == 0: continue\n",
    "        text = f\"{k}: {(5-len(k))*' '}{colors.GREEN}{round(play['asset'][k]/eth, 3)}Ξ{colors.ENDC}\"\n",
    "        text = f\"{text}{' '*(28-len(text))}{int(play['asset'][k]*100/total)}%\"\n",
    "        print_statements.append(text)\n",
    "    print_statements.append(colors.BOLD + \"TRADE\" + colors.ENDC)\n",
    "    for k in trade['asset']:\n",
    "        if trade['asset'][k] == 0: continue\n",
    "        text = f\"{k}: {(5-len(k))*' '}{colors.GREEN}{round(trade['asset'][k]/eth, 3)}Ξ{colors.ENDC}\"\n",
    "        text = f\"{text}{' '*(28-len(text))}{int(trade['asset'][k]*100/total)}%\"\n",
    "        print_statements.append(text)\n",
    "    print_statements.append(f\"TOTAL: {round(total/eth, 3)}Ξ\")\n",
    "    return print_statements"
   ]
  },
  {
   "cell_type": "code",
   "execution_count": 117,
   "id": "8cd616cf-4d3f-48d6-a9c1-ff3eb15e95c1",
   "metadata": {},
   "outputs": [],
   "source": [
    "trade = generate_amounts(s, s[\"wallets\"][\"trade\"])\n",
    "play = generate_amounts(s, s[\"wallets\"][\"fun\"])\n",
    "calculate_position(s, trade, prices)\n",
    "calculate_position(s, play, prices)"
   ]
  },
  {
   "cell_type": "code",
   "execution_count": 199,
   "id": "7c465547-06aa-4efb-9742-7c7f64958a90",
   "metadata": {},
   "outputs": [],
   "source": [
    "ps = print_trade_portfolio(s, trade, play, prices['ethereum'])"
   ]
  },
  {
   "cell_type": "code",
   "execution_count": 200,
   "id": "a497dd08-f6d4-4d57-bf1e-89cc3cc959f7",
   "metadata": {},
   "outputs": [
    {
     "name": "stdout",
     "output_type": "stream",
     "text": [
      "\u001b[1mFUN\u001b[0m\n",
      "eth:   \u001b[92m0.096Ξ\u001b[0m      66%\n",
      "usdc:  \u001b[92m0.016Ξ\u001b[0m      10%\n",
      "\u001b[1mTRADE\u001b[0m\n",
      "eth:   \u001b[92m0.034Ξ\u001b[0m      23%\n",
      "TOTAL: 0.145Ξ\n"
     ]
    }
   ],
   "source": [
    "for i in ps:\n",
    "    print(i)"
   ]
  },
  {
   "cell_type": "code",
   "execution_count": 201,
   "id": "57d9dcd9-3f2c-42b4-80c1-4327b2f5e6b6",
   "metadata": {},
   "outputs": [],
   "source": [
    "psm = print_main_portfolio(s, a, prices['ethereum'])"
   ]
  },
  {
   "cell_type": "code",
   "execution_count": 202,
   "id": "421aad07-6b21-41c8-acc3-c4dba7cf023f",
   "metadata": {},
   "outputs": [
    {
     "name": "stdout",
     "output_type": "stream",
     "text": [
      "\u001b[1mMAIN\u001b[0m\n",
      "\u001b[4mASSETS\u001b[0m\n",
      "eth:    \u001b[92m0.996Ξ\u001b[0m     26%\n",
      "aweth:  \u001b[92m2.364Ξ\u001b[0m     62%\n",
      "rpl:    \u001b[92m0.399Ξ\u001b[0m     10%\n",
      "\u001b[4mDEBT\u001b[0m\n",
      "btc:   \u001b[91m-0.922Ξ\u001b[0m\n",
      "TOTAL: 2.838Ξ\n"
     ]
    }
   ],
   "source": [
    "for i in psm:\n",
    "    print(i)"
   ]
  },
  {
   "cell_type": "code",
   "execution_count": 221,
   "id": "cb0ffb0d-49fc-4d31-b00f-9d7014711b18",
   "metadata": {},
   "outputs": [],
   "source": [
    "def print_main_vs_trade(psm, pst):\n",
    "    left_spacing = max(list(map(lambda x: len(x), psm)))-1\n",
    "    last = f\"{psm[-1]}{(left_spacing-9 - len(psm[-1]))*' '}{'  ≥  ' if (float(psm[-1][6:-1]) >= float(pst[-1][6:-1])) else '  <  '} {pst[-1]}\"\n",
    "    highlight = colors.BLUE if (float(psm[-1][6:-1]) >= float(pst[-1][6:-1])) else colors.RED \n",
    "    last = highlight + last + colors.ENDC\n",
    "    psm = psm[:-1]\n",
    "    pst = pst[:-1]\n",
    "    height = max(len(psm), len(pst))\n",
    "\n",
    "    for i in range(height):\n",
    "        text = \"\"\n",
    "        if i < len(psm):\n",
    "            text += psm[i] + \" \"*(left_spacing - len(psm[i]))\n",
    "            text += \"     \"\n",
    "        else:\n",
    "            text += \" \"*left_spacing\n",
    "        if i < len(pst):\n",
    "            text += pst[i]\n",
    "        print(text)\n",
    "    print(last)\n",
    "    \n",
    "            \n",
    "        "
   ]
  },
  {
   "cell_type": "code",
   "execution_count": 222,
   "id": "2b21565f-fddd-45be-8361-5045b7f7d349",
   "metadata": {},
   "outputs": [
    {
     "name": "stdout",
     "output_type": "stream",
     "text": [
      "\u001b[1mMAIN\u001b[0m                       \u001b[1mFUN\u001b[0m\n",
      "\u001b[4mASSETS\u001b[0m                     eth:   \u001b[92m0.096Ξ\u001b[0m      66%\n",
      "eth:    \u001b[92m0.996Ξ\u001b[0m     26%     usdc:  \u001b[92m0.016Ξ\u001b[0m      10%\n",
      "aweth:  \u001b[92m2.364Ξ\u001b[0m     62%     \u001b[1mTRADE\u001b[0m\n",
      "rpl:    \u001b[92m0.399Ξ\u001b[0m     10%     eth:   \u001b[92m0.034Ξ\u001b[0m      23%\n",
      "\u001b[4mDEBT\u001b[0m                       \n",
      "btc:   \u001b[91m-0.922Ξ\u001b[0m            \n",
      "\u001b[94mTOTAL: 2.838Ξ          ≥   TOTAL: 0.145Ξ\u001b[0m\n"
     ]
    }
   ],
   "source": [
    "print_main_vs_trade(psm, ps)"
   ]
  },
  {
   "cell_type": "code",
   "execution_count": 204,
   "id": "f464ffb4-a05d-4b14-8dd8-c5905aadc049",
   "metadata": {},
   "outputs": [
    {
     "data": {
      "text/plain": [
       "'TOTAL: 2.838Ξ'"
      ]
     },
     "execution_count": 204,
     "metadata": {},
     "output_type": "execute_result"
    }
   ],
   "source": [
    "psm[-1]"
   ]
  },
  {
   "cell_type": "code",
   "execution_count": 31,
   "id": "70eeb4d8-36f7-45b2-890e-bfaa5779abc4",
   "metadata": {},
   "outputs": [
    {
     "data": {
      "text/plain": [
       "5"
      ]
     },
     "execution_count": 31,
     "metadata": {},
     "output_type": "execute_result"
    }
   ],
   "source": [
    "max(list(map(lambda x: len(x), a['asset'].keys())))"
   ]
  },
  {
   "cell_type": "code",
   "execution_count": null,
   "id": "baa4ac50-8dd7-4cae-9b4c-c0da1ff6980e",
   "metadata": {},
   "outputs": [],
   "source": []
  }
 ],
 "metadata": {
  "kernelspec": {
   "display_name": "Python 3 (ipykernel)",
   "language": "python",
   "name": "python3"
  },
  "language_info": {
   "codemirror_mode": {
    "name": "ipython",
    "version": 3
   },
   "file_extension": ".py",
   "mimetype": "text/x-python",
   "name": "python",
   "nbconvert_exporter": "python",
   "pygments_lexer": "ipython3",
   "version": "3.9.12"
  }
 },
 "nbformat": 4,
 "nbformat_minor": 5
}
