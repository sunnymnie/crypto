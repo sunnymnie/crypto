{
 "cells": [
  {
   "cell_type": "markdown",
   "id": "d7740107-f6ac-4c9a-bbd5-fdbb62d242c5",
   "metadata": {},
   "source": [
    "# New year's resolution test"
   ]
  },
  {
   "cell_type": "code",
   "execution_count": 19,
   "id": "9739f86c-c43c-43ec-8918-fd47921f05cc",
   "metadata": {},
   "outputs": [],
   "source": [
    "import time"
   ]
  },
  {
   "cell_type": "code",
   "execution_count": 35,
   "id": "1c6448f8-637a-4ddc-a067-351e081475b7",
   "metadata": {},
   "outputs": [
    {
     "data": {
      "text/plain": [
       "55612.656009746985"
      ]
     },
     "execution_count": 35,
     "metadata": {},
     "output_type": "execute_result"
    }
   ],
   "source": [
    "initial = 200\n",
    "for i in range(60):\n",
    "    if i%5==0 or i%5==1:\n",
    "        initial *= 0.85\n",
    "    else:\n",
    "        initial *= 1.4\n",
    "    if i%10==0:\n",
    "        initial *= 0.65\n",
    "    # print(initial)\n",
    "    # time.sleep(1)\n",
    "initial"
   ]
  },
  {
   "cell_type": "code",
   "execution_count": 17,
   "id": "f9cfb8ef-96cf-4aeb-a933-41f5647b59b1",
   "metadata": {},
   "outputs": [
    {
     "data": {
      "text/plain": [
       "3"
      ]
     },
     "execution_count": 17,
     "metadata": {},
     "output_type": "execute_result"
    }
   ],
   "source": [
    "3%10"
   ]
  },
  {
   "cell_type": "code",
   "execution_count": null,
   "id": "860e9d77-98a6-4946-853d-6edc27a958a5",
   "metadata": {},
   "outputs": [],
   "source": []
  }
 ],
 "metadata": {
  "kernelspec": {
   "display_name": "Python 3 (ipykernel)",
   "language": "python",
   "name": "python3"
  },
  "language_info": {
   "codemirror_mode": {
    "name": "ipython",
    "version": 3
   },
   "file_extension": ".py",
   "mimetype": "text/x-python",
   "name": "python",
   "nbconvert_exporter": "python",
   "pygments_lexer": "ipython3",
   "version": "3.9.7"
  }
 },
 "nbformat": 4,
 "nbformat_minor": 5
}
