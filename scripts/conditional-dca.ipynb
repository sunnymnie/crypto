{
 "cells": [
  {
   "cell_type": "markdown",
   "id": "1d9db739-846c-49d4-b66c-0009b5ad96b4",
   "metadata": {},
   "source": [
    "# Conditional DCA\n",
    "Testing whether conditional DCA beats regular DCA assuming price goes up eventually"
   ]
  },
  {
   "cell_type": "code",
   "execution_count": 219,
   "id": "bd8bdbe2-d648-4191-b55d-3e27accf3036",
   "metadata": {},
   "outputs": [],
   "source": [
    "import pandas as pd\n",
    "import numpy as np \n",
    "from datetime import datetime\n",
    "import requests\n",
    "import matplotlib.pyplot as plt\n",
    "import random"
   ]
  },
  {
   "cell_type": "code",
   "execution_count": 28,
   "id": "668db720-7ae9-4399-8e85-4cce2d3b3077",
   "metadata": {},
   "outputs": [],
   "source": [
    "res = requests.get(\n",
    "    \"https://api.coingecko.com/api/v3/coins/ethereum/market_chart?vs_currency=usd&days=400&interval=daily\"\n",
    ").json()"
   ]
  },
  {
   "cell_type": "code",
   "execution_count": 42,
   "id": "2021861a-7408-440d-ade8-65b492561e66",
   "metadata": {},
   "outputs": [],
   "source": [
    "df = pd.DataFrame(index=[datetime.fromtimestamp(i[0]/1000) for i in res[\"prices\"]], \n",
    "                 columns=[\"price\"], data=[i[1] for i in res[\"prices\"]])"
   ]
  },
  {
   "cell_type": "code",
   "execution_count": 107,
   "id": "a7e72d07-61b8-441f-9f14-9485632a147c",
   "metadata": {},
   "outputs": [],
   "source": [
    "# results = pd.DataFrame(columns=[\"name\", \"total_spent\", \"avg_price\", \"result\"])"
   ]
  },
  {
   "cell_type": "code",
   "execution_count": 109,
   "id": "e86df191-c925-468e-ab13-bf078c82578f",
   "metadata": {},
   "outputs": [],
   "source": [
    "class Result:\n",
    "    def __init__(self, name, total_spent, avg_price, result):\n",
    "        self.name = name\n",
    "        self.total_spent = total_spent\n",
    "        self.avg_price = avg_price\n",
    "        self.result = result\n",
    "        \n",
    "    def json(self):\n",
    "        return {\"name\":self.name, \"total_spent\": self.total_spent, \"avg_price\": self.avg_price, \"result\":self.result}\n",
    "    "
   ]
  },
  {
   "cell_type": "code",
   "execution_count": 44,
   "id": "38d8f45b-5d84-433b-ac51-a46c98092734",
   "metadata": {
    "tags": []
   },
   "outputs": [],
   "source": [
    "# df_saved = df[:]"
   ]
  },
  {
   "cell_type": "code",
   "execution_count": 199,
   "id": "19cc3fda-6a8c-4795-ad56-f246ccfd8892",
   "metadata": {},
   "outputs": [],
   "source": [
    "df = df_saved[:]"
   ]
  },
  {
   "cell_type": "code",
   "execution_count": 297,
   "id": "bca2247f-098b-4f84-9f4f-ea0ff8e58489",
   "metadata": {},
   "outputs": [],
   "source": [
    "DCA = 50\n",
    "def regular_dca(df):\n",
    "    acc = (DCA/df.price).cumsum()\n",
    "    df[\"dca\"] = acc\n",
    "    # results[\"name\"] = \"DCA\"\n",
    "    # results[\"total_spent\"] = DCA*len(acc)\n",
    "    # results[\"avg_price\"] = acc[-1]\n",
    "    # return Result(\"DCA\", DCA*len(acc), DCA*len(acc)/acc.loc[-1], result = acc.loc[-1])\n",
    "def c_dca(df, m):\n",
    "    diff = (df.price - df.price.shift())/df.price\n",
    "    # buy = -100*m*diff\n",
    "    # amt = buy/df.price.shift()\n",
    "    # b_cs = buy.cumsum()\n",
    "    \n",
    "    acc = [0]\n",
    "    usd = 0\n",
    "    spend = []\n",
    "    for i in range(len(diff)):\n",
    "        usd += DCA\n",
    "        if diff[i] < 0:\n",
    "            buy = -100*m*diff[i]\n",
    "            if usd > buy:\n",
    "                usd -= buy\n",
    "                spend.append(buy)\n",
    "                acc.append(acc[-1] + buy/df.price.iloc[i])\n",
    "            else:\n",
    "                acc.append(acc[-1]+ usd/df.price.iloc[i])\n",
    "                spend.append(usd)\n",
    "                usd = 0\n",
    "        else:\n",
    "            acc.append(acc[-1])\n",
    "            spend.append(0)\n",
    "    df[f\"c_dca_spend_{m}\"] = spend[:]\n",
    "    df[f\"c_dca_{m}\"] = acc[1:]\n",
    "    \n",
    "    return Result(f\"c_dca_{m}\", sum(spend), sum(spend)/acc[-1], acc[-1])\n",
    "def neg_dca(df):\n",
    "    diff = (df.price - df.price.shift())/df.price\n",
    "    buy = (DCA*2)/df.price\n",
    "    acc = []\n",
    "    buy_acc = 0\n",
    "    for i in range(len(diff)):\n",
    "        if diff[i] < 0:\n",
    "            acc.append(buy[i])\n",
    "            buy_acc += DCA*2\n",
    "        else:\n",
    "            acc.append(0)\n",
    "    cumsum = pd.Series(acc).cumsum()\n",
    "    # return cumsum\n",
    "    df[f\"neg_dca\"] = cumsum.to_list()\n",
    "    return Result(f\"neg_dca\", buy_acc, buy_acc/cumsum.iloc[-1], cumsum.iloc[-1])\n",
    "    "
   ]
  },
  {
   "cell_type": "code",
   "execution_count": 213,
   "id": "b7c969de-d86b-43b7-900f-20fc3229bc2d",
   "metadata": {
    "tags": []
   },
   "outputs": [
    {
     "name": "stderr",
     "output_type": "stream",
     "text": [
      "/var/folders/4n/h7p57sb17sn7vtrtjz3m1xhr0000gn/T/ipykernel_34149/2456226291.py:4: SettingWithCopyWarning: \n",
      "A value is trying to be set on a copy of a slice from a DataFrame.\n",
      "Try using .loc[row_indexer,col_indexer] = value instead\n",
      "\n",
      "See the caveats in the documentation: https://pandas.pydata.org/pandas-docs/stable/user_guide/indexing.html#returning-a-view-versus-a-copy\n",
      "  df[\"dca\"] = acc\n",
      "/var/folders/4n/h7p57sb17sn7vtrtjz3m1xhr0000gn/T/ipykernel_34149/2456226291.py:32: SettingWithCopyWarning: \n",
      "A value is trying to be set on a copy of a slice from a DataFrame.\n",
      "Try using .loc[row_indexer,col_indexer] = value instead\n",
      "\n",
      "See the caveats in the documentation: https://pandas.pydata.org/pandas-docs/stable/user_guide/indexing.html#returning-a-view-versus-a-copy\n",
      "  df[f\"c_dca_spend_{m}\"] = spend[:]\n",
      "/var/folders/4n/h7p57sb17sn7vtrtjz3m1xhr0000gn/T/ipykernel_34149/2456226291.py:33: SettingWithCopyWarning: \n",
      "A value is trying to be set on a copy of a slice from a DataFrame.\n",
      "Try using .loc[row_indexer,col_indexer] = value instead\n",
      "\n",
      "See the caveats in the documentation: https://pandas.pydata.org/pandas-docs/stable/user_guide/indexing.html#returning-a-view-versus-a-copy\n",
      "  df[f\"c_dca_{m}\"] = acc[1:]\n",
      "/var/folders/4n/h7p57sb17sn7vtrtjz3m1xhr0000gn/T/ipykernel_34149/2456226291.py:49: SettingWithCopyWarning: \n",
      "A value is trying to be set on a copy of a slice from a DataFrame.\n",
      "Try using .loc[row_indexer,col_indexer] = value instead\n",
      "\n",
      "See the caveats in the documentation: https://pandas.pydata.org/pandas-docs/stable/user_guide/indexing.html#returning-a-view-versus-a-copy\n",
      "  df[f\"neg_dca\"] = cumsum.to_list()\n"
     ]
    }
   ],
   "source": [
    "r = regular_dca(df)\n",
    "c20 = c_dca(df, 20)\n",
    "c30 = c_dca(df, 30)\n",
    "c50 = c_dca(df, 50)\n",
    "c10 = c_dca(df, 10)\n",
    "n = neg_dca(df)"
   ]
  },
  {
   "cell_type": "code",
   "execution_count": 214,
   "id": "48389553-fe04-4a2a-a6a6-3c1667a2e57a",
   "metadata": {},
   "outputs": [
    {
     "data": {
      "text/plain": [
       "<__main__.Result at 0x7fc8f62f7d30>"
      ]
     },
     "execution_count": 214,
     "metadata": {},
     "output_type": "execute_result"
    }
   ],
   "source": [
    "n"
   ]
  },
  {
   "cell_type": "code",
   "execution_count": 215,
   "id": "d325154a-4b77-4622-87c0-b7f0a511a4ab",
   "metadata": {},
   "outputs": [
    {
     "data": {
      "text/plain": [
       "{'name': 'DCA',\n",
       " 'total_spent': 20050,\n",
       " 'avg_price': 2468.6597737980505,\n",
       " 'result': 8.121815817962203}"
      ]
     },
     "execution_count": 215,
     "metadata": {},
     "output_type": "execute_result"
    }
   ],
   "source": [
    "r.json()"
   ]
  },
  {
   "cell_type": "code",
   "execution_count": 216,
   "id": "97a5c1f9-93bc-405c-a7fd-0b0a71559aba",
   "metadata": {},
   "outputs": [
    {
     "data": {
      "text/plain": [
       "{'name': 'c_dca_30',\n",
       " 'total_spent': 19645.16607667679,\n",
       " 'avg_price': 2405.5336278502236,\n",
       " 'result': 8.166656183573403}"
      ]
     },
     "execution_count": 216,
     "metadata": {},
     "output_type": "execute_result"
    }
   ],
   "source": [
    "c30.json()"
   ]
  },
  {
   "cell_type": "code",
   "execution_count": 217,
   "id": "9efcf552-cbb7-442b-8d25-44213ac5cddf",
   "metadata": {
    "jupyter": {
     "source_hidden": true
    },
    "tags": []
   },
   "outputs": [
    {
     "data": {
      "text/html": [
       "<div>\n",
       "<style scoped>\n",
       "    .dataframe tbody tr th:only-of-type {\n",
       "        vertical-align: middle;\n",
       "    }\n",
       "\n",
       "    .dataframe tbody tr th {\n",
       "        vertical-align: top;\n",
       "    }\n",
       "\n",
       "    .dataframe thead th {\n",
       "        text-align: right;\n",
       "    }\n",
       "</style>\n",
       "<table border=\"1\" class=\"dataframe\">\n",
       "  <thead>\n",
       "    <tr style=\"text-align: right;\">\n",
       "      <th></th>\n",
       "      <th>price</th>\n",
       "      <th>dca</th>\n",
       "      <th>c_dca_spend_20</th>\n",
       "      <th>c_dca_20</th>\n",
       "      <th>c_dca_spend_30</th>\n",
       "      <th>c_dca_30</th>\n",
       "      <th>c_dca_spend_50</th>\n",
       "      <th>c_dca_50</th>\n",
       "      <th>c_dca_spend_10</th>\n",
       "      <th>c_dca_10</th>\n",
       "      <th>neg_dca</th>\n",
       "    </tr>\n",
       "  </thead>\n",
       "  <tbody>\n",
       "    <tr>\n",
       "      <th>2021-07-21 17:00:00</th>\n",
       "      <td>2003.723921</td>\n",
       "      <td>0.024954</td>\n",
       "      <td>0.000000</td>\n",
       "      <td>0.000000</td>\n",
       "      <td>0.000000</td>\n",
       "      <td>0.000000</td>\n",
       "      <td>0.0</td>\n",
       "      <td>0.000000</td>\n",
       "      <td>0.000000</td>\n",
       "      <td>0.000000</td>\n",
       "      <td>0.000000</td>\n",
       "    </tr>\n",
       "    <tr>\n",
       "      <th>2021-07-22 17:00:00</th>\n",
       "      <td>2027.533448</td>\n",
       "      <td>0.049614</td>\n",
       "      <td>0.000000</td>\n",
       "      <td>0.000000</td>\n",
       "      <td>0.000000</td>\n",
       "      <td>0.000000</td>\n",
       "      <td>0.0</td>\n",
       "      <td>0.000000</td>\n",
       "      <td>0.000000</td>\n",
       "      <td>0.000000</td>\n",
       "      <td>0.000000</td>\n",
       "    </tr>\n",
       "    <tr>\n",
       "      <th>2021-07-23 17:00:00</th>\n",
       "      <td>2117.154608</td>\n",
       "      <td>0.073231</td>\n",
       "      <td>0.000000</td>\n",
       "      <td>0.000000</td>\n",
       "      <td>0.000000</td>\n",
       "      <td>0.000000</td>\n",
       "      <td>0.0</td>\n",
       "      <td>0.000000</td>\n",
       "      <td>0.000000</td>\n",
       "      <td>0.000000</td>\n",
       "      <td>0.000000</td>\n",
       "    </tr>\n",
       "    <tr>\n",
       "      <th>2021-07-24 17:00:00</th>\n",
       "      <td>2183.627415</td>\n",
       "      <td>0.096128</td>\n",
       "      <td>0.000000</td>\n",
       "      <td>0.000000</td>\n",
       "      <td>0.000000</td>\n",
       "      <td>0.000000</td>\n",
       "      <td>0.0</td>\n",
       "      <td>0.000000</td>\n",
       "      <td>0.000000</td>\n",
       "      <td>0.000000</td>\n",
       "      <td>0.000000</td>\n",
       "    </tr>\n",
       "    <tr>\n",
       "      <th>2021-07-25 17:00:00</th>\n",
       "      <td>2209.499360</td>\n",
       "      <td>0.118758</td>\n",
       "      <td>0.000000</td>\n",
       "      <td>0.000000</td>\n",
       "      <td>0.000000</td>\n",
       "      <td>0.000000</td>\n",
       "      <td>0.0</td>\n",
       "      <td>0.000000</td>\n",
       "      <td>0.000000</td>\n",
       "      <td>0.000000</td>\n",
       "      <td>0.000000</td>\n",
       "    </tr>\n",
       "    <tr>\n",
       "      <th>...</th>\n",
       "      <td>...</td>\n",
       "      <td>...</td>\n",
       "      <td>...</td>\n",
       "      <td>...</td>\n",
       "      <td>...</td>\n",
       "      <td>...</td>\n",
       "      <td>...</td>\n",
       "      <td>...</td>\n",
       "      <td>...</td>\n",
       "      <td>...</td>\n",
       "      <td>...</td>\n",
       "    </tr>\n",
       "    <tr>\n",
       "      <th>2022-08-21 17:00:00</th>\n",
       "      <td>1624.149983</td>\n",
       "      <td>8.000979</td>\n",
       "      <td>0.000000</td>\n",
       "      <td>6.313228</td>\n",
       "      <td>0.000000</td>\n",
       "      <td>8.155825</td>\n",
       "      <td>0.0</td>\n",
       "      <td>8.372352</td>\n",
       "      <td>0.000000</td>\n",
       "      <td>3.156614</td>\n",
       "      <td>7.908490</td>\n",
       "    </tr>\n",
       "    <tr>\n",
       "      <th>2022-08-22 17:00:00</th>\n",
       "      <td>1622.307035</td>\n",
       "      <td>8.031800</td>\n",
       "      <td>2.272009</td>\n",
       "      <td>6.314629</td>\n",
       "      <td>3.408014</td>\n",
       "      <td>8.157925</td>\n",
       "      <td>0.0</td>\n",
       "      <td>8.372352</td>\n",
       "      <td>1.136005</td>\n",
       "      <td>3.157314</td>\n",
       "      <td>7.970131</td>\n",
       "    </tr>\n",
       "    <tr>\n",
       "      <th>2022-08-23 17:00:00</th>\n",
       "      <td>1665.791907</td>\n",
       "      <td>8.061815</td>\n",
       "      <td>0.000000</td>\n",
       "      <td>6.314629</td>\n",
       "      <td>0.000000</td>\n",
       "      <td>8.157925</td>\n",
       "      <td>0.0</td>\n",
       "      <td>8.372352</td>\n",
       "      <td>0.000000</td>\n",
       "      <td>3.157314</td>\n",
       "      <td>7.970131</td>\n",
       "    </tr>\n",
       "    <tr>\n",
       "      <th>2022-08-24 17:00:00</th>\n",
       "      <td>1657.793642</td>\n",
       "      <td>8.091976</td>\n",
       "      <td>9.649289</td>\n",
       "      <td>6.320449</td>\n",
       "      <td>14.473933</td>\n",
       "      <td>8.166656</td>\n",
       "      <td>0.0</td>\n",
       "      <td>8.372352</td>\n",
       "      <td>4.824644</td>\n",
       "      <td>3.160225</td>\n",
       "      <td>8.030452</td>\n",
       "    </tr>\n",
       "    <tr>\n",
       "      <th>2022-08-24 21:47:45</th>\n",
       "      <td>1675.616891</td>\n",
       "      <td>8.121816</td>\n",
       "      <td>0.000000</td>\n",
       "      <td>6.320449</td>\n",
       "      <td>0.000000</td>\n",
       "      <td>8.166656</td>\n",
       "      <td>0.0</td>\n",
       "      <td>8.372352</td>\n",
       "      <td>0.000000</td>\n",
       "      <td>3.160225</td>\n",
       "      <td>8.030452</td>\n",
       "    </tr>\n",
       "  </tbody>\n",
       "</table>\n",
       "<p>401 rows × 11 columns</p>\n",
       "</div>"
      ],
      "text/plain": [
       "                           price       dca  c_dca_spend_20  c_dca_20  \\\n",
       "2021-07-21 17:00:00  2003.723921  0.024954        0.000000  0.000000   \n",
       "2021-07-22 17:00:00  2027.533448  0.049614        0.000000  0.000000   \n",
       "2021-07-23 17:00:00  2117.154608  0.073231        0.000000  0.000000   \n",
       "2021-07-24 17:00:00  2183.627415  0.096128        0.000000  0.000000   \n",
       "2021-07-25 17:00:00  2209.499360  0.118758        0.000000  0.000000   \n",
       "...                          ...       ...             ...       ...   \n",
       "2022-08-21 17:00:00  1624.149983  8.000979        0.000000  6.313228   \n",
       "2022-08-22 17:00:00  1622.307035  8.031800        2.272009  6.314629   \n",
       "2022-08-23 17:00:00  1665.791907  8.061815        0.000000  6.314629   \n",
       "2022-08-24 17:00:00  1657.793642  8.091976        9.649289  6.320449   \n",
       "2022-08-24 21:47:45  1675.616891  8.121816        0.000000  6.320449   \n",
       "\n",
       "                     c_dca_spend_30  c_dca_30  c_dca_spend_50  c_dca_50  \\\n",
       "2021-07-21 17:00:00        0.000000  0.000000             0.0  0.000000   \n",
       "2021-07-22 17:00:00        0.000000  0.000000             0.0  0.000000   \n",
       "2021-07-23 17:00:00        0.000000  0.000000             0.0  0.000000   \n",
       "2021-07-24 17:00:00        0.000000  0.000000             0.0  0.000000   \n",
       "2021-07-25 17:00:00        0.000000  0.000000             0.0  0.000000   \n",
       "...                             ...       ...             ...       ...   \n",
       "2022-08-21 17:00:00        0.000000  8.155825             0.0  8.372352   \n",
       "2022-08-22 17:00:00        3.408014  8.157925             0.0  8.372352   \n",
       "2022-08-23 17:00:00        0.000000  8.157925             0.0  8.372352   \n",
       "2022-08-24 17:00:00       14.473933  8.166656             0.0  8.372352   \n",
       "2022-08-24 21:47:45        0.000000  8.166656             0.0  8.372352   \n",
       "\n",
       "                     c_dca_spend_10  c_dca_10   neg_dca  \n",
       "2021-07-21 17:00:00        0.000000  0.000000  0.000000  \n",
       "2021-07-22 17:00:00        0.000000  0.000000  0.000000  \n",
       "2021-07-23 17:00:00        0.000000  0.000000  0.000000  \n",
       "2021-07-24 17:00:00        0.000000  0.000000  0.000000  \n",
       "2021-07-25 17:00:00        0.000000  0.000000  0.000000  \n",
       "...                             ...       ...       ...  \n",
       "2022-08-21 17:00:00        0.000000  3.156614  7.908490  \n",
       "2022-08-22 17:00:00        1.136005  3.157314  7.970131  \n",
       "2022-08-23 17:00:00        0.000000  3.157314  7.970131  \n",
       "2022-08-24 17:00:00        4.824644  3.160225  8.030452  \n",
       "2022-08-24 21:47:45        0.000000  3.160225  8.030452  \n",
       "\n",
       "[401 rows x 11 columns]"
      ]
     },
     "execution_count": 217,
     "metadata": {},
     "output_type": "execute_result"
    }
   ],
   "source": [
    "df"
   ]
  },
  {
   "cell_type": "code",
   "execution_count": 218,
   "id": "d4471f56-81c0-4fb2-8e95-e6405657bf61",
   "metadata": {},
   "outputs": [
    {
     "data": {
      "text/plain": [
       "[<matplotlib.lines.Line2D at 0x7fc8f6467bb0>]"
      ]
     },
     "execution_count": 218,
     "metadata": {},
     "output_type": "execute_result"
    },
    {
     "data": {
      "image/png": "[encoded data removed]",
      "text/plain": [
       "<Figure size 864x288 with 2 Axes>"
      ]
     },
     "metadata": {
      "needs_background": "light"
     },
     "output_type": "display_data"
    }
   ],
   "source": [
    "fig, ax = plt.subplots(figsize=(12, 4))\n",
    "ax.plot(df.price)\n",
    "ax1 = ax.twinx()\n",
    "ax1.plot(df.dca, c=\"gray\")\n",
    "ax1.plot(df.c_dca_10, c=\"#00ff00\")\n",
    "ax1.plot(df.c_dca_20, c=\"#008800\")\n",
    "ax1.plot(df.c_dca_30, c=\"#006600\")\n",
    "ax1.plot(df.c_dca_50, c=\"#003300\")\n",
    "ax1.plot(df.neg_dca, c=\"#882233\")"
   ]
  },
  {
   "cell_type": "code",
   "execution_count": 193,
   "id": "5324afe6-b61b-4048-a5a6-414cf2f27444",
   "metadata": {},
   "outputs": [
    {
     "data": {
      "text/html": [
       "<div>\n",
       "<style scoped>\n",
       "    .dataframe tbody tr th:only-of-type {\n",
       "        vertical-align: middle;\n",
       "    }\n",
       "\n",
       "    .dataframe tbody tr th {\n",
       "        vertical-align: top;\n",
       "    }\n",
       "\n",
       "    .dataframe thead th {\n",
       "        text-align: right;\n",
       "    }\n",
       "</style>\n",
       "<table border=\"1\" class=\"dataframe\">\n",
       "  <thead>\n",
       "    <tr style=\"text-align: right;\">\n",
       "      <th></th>\n",
       "      <th>price</th>\n",
       "      <th>dca</th>\n",
       "      <th>c_dca_spend_30</th>\n",
       "      <th>c_dca_30</th>\n",
       "      <th>c_dca_spend_50</th>\n",
       "      <th>c_dca_50</th>\n",
       "      <th>c_dca_spend_10</th>\n",
       "      <th>c_dca_10</th>\n",
       "      <th>c_dca_spend_20</th>\n",
       "      <th>c_dca_20</th>\n",
       "      <th>neg_dca</th>\n",
       "    </tr>\n",
       "  </thead>\n",
       "  <tbody>\n",
       "    <tr>\n",
       "      <th>2021-07-21 17:00:00</th>\n",
       "      <td>2003.723921</td>\n",
       "      <td>0.024954</td>\n",
       "      <td>0.000000</td>\n",
       "      <td>0.000000</td>\n",
       "      <td>0.0</td>\n",
       "      <td>0.000000</td>\n",
       "      <td>0.000000</td>\n",
       "      <td>0.000000</td>\n",
       "      <td>0.000000</td>\n",
       "      <td>0.000000</td>\n",
       "      <td>NaN</td>\n",
       "    </tr>\n",
       "    <tr>\n",
       "      <th>2021-07-22 17:00:00</th>\n",
       "      <td>2027.533448</td>\n",
       "      <td>0.049614</td>\n",
       "      <td>0.000000</td>\n",
       "      <td>0.000000</td>\n",
       "      <td>0.0</td>\n",
       "      <td>0.000000</td>\n",
       "      <td>0.000000</td>\n",
       "      <td>0.000000</td>\n",
       "      <td>0.000000</td>\n",
       "      <td>0.000000</td>\n",
       "      <td>NaN</td>\n",
       "    </tr>\n",
       "    <tr>\n",
       "      <th>2021-07-23 17:00:00</th>\n",
       "      <td>2117.154608</td>\n",
       "      <td>0.073231</td>\n",
       "      <td>0.000000</td>\n",
       "      <td>0.000000</td>\n",
       "      <td>0.0</td>\n",
       "      <td>0.000000</td>\n",
       "      <td>0.000000</td>\n",
       "      <td>0.000000</td>\n",
       "      <td>0.000000</td>\n",
       "      <td>0.000000</td>\n",
       "      <td>NaN</td>\n",
       "    </tr>\n",
       "    <tr>\n",
       "      <th>2021-07-24 17:00:00</th>\n",
       "      <td>2183.627415</td>\n",
       "      <td>0.096128</td>\n",
       "      <td>0.000000</td>\n",
       "      <td>0.000000</td>\n",
       "      <td>0.0</td>\n",
       "      <td>0.000000</td>\n",
       "      <td>0.000000</td>\n",
       "      <td>0.000000</td>\n",
       "      <td>0.000000</td>\n",
       "      <td>0.000000</td>\n",
       "      <td>NaN</td>\n",
       "    </tr>\n",
       "    <tr>\n",
       "      <th>2021-07-25 17:00:00</th>\n",
       "      <td>2209.499360</td>\n",
       "      <td>0.118758</td>\n",
       "      <td>0.000000</td>\n",
       "      <td>0.000000</td>\n",
       "      <td>0.0</td>\n",
       "      <td>0.000000</td>\n",
       "      <td>0.000000</td>\n",
       "      <td>0.000000</td>\n",
       "      <td>0.000000</td>\n",
       "      <td>0.000000</td>\n",
       "      <td>NaN</td>\n",
       "    </tr>\n",
       "    <tr>\n",
       "      <th>...</th>\n",
       "      <td>...</td>\n",
       "      <td>...</td>\n",
       "      <td>...</td>\n",
       "      <td>...</td>\n",
       "      <td>...</td>\n",
       "      <td>...</td>\n",
       "      <td>...</td>\n",
       "      <td>...</td>\n",
       "      <td>...</td>\n",
       "      <td>...</td>\n",
       "      <td>...</td>\n",
       "    </tr>\n",
       "    <tr>\n",
       "      <th>2022-08-21 17:00:00</th>\n",
       "      <td>1624.149983</td>\n",
       "      <td>8.000979</td>\n",
       "      <td>0.000000</td>\n",
       "      <td>8.155825</td>\n",
       "      <td>0.0</td>\n",
       "      <td>8.372352</td>\n",
       "      <td>0.000000</td>\n",
       "      <td>3.156614</td>\n",
       "      <td>0.000000</td>\n",
       "      <td>6.313228</td>\n",
       "      <td>NaN</td>\n",
       "    </tr>\n",
       "    <tr>\n",
       "      <th>2022-08-22 17:00:00</th>\n",
       "      <td>1622.307035</td>\n",
       "      <td>8.031800</td>\n",
       "      <td>3.408014</td>\n",
       "      <td>8.157925</td>\n",
       "      <td>0.0</td>\n",
       "      <td>8.372352</td>\n",
       "      <td>1.136005</td>\n",
       "      <td>3.157314</td>\n",
       "      <td>2.272009</td>\n",
       "      <td>6.314629</td>\n",
       "      <td>NaN</td>\n",
       "    </tr>\n",
       "    <tr>\n",
       "      <th>2022-08-23 17:00:00</th>\n",
       "      <td>1665.791907</td>\n",
       "      <td>8.061815</td>\n",
       "      <td>0.000000</td>\n",
       "      <td>8.157925</td>\n",
       "      <td>0.0</td>\n",
       "      <td>8.372352</td>\n",
       "      <td>0.000000</td>\n",
       "      <td>3.157314</td>\n",
       "      <td>0.000000</td>\n",
       "      <td>6.314629</td>\n",
       "      <td>NaN</td>\n",
       "    </tr>\n",
       "    <tr>\n",
       "      <th>2022-08-24 17:00:00</th>\n",
       "      <td>1657.793642</td>\n",
       "      <td>8.091976</td>\n",
       "      <td>14.473933</td>\n",
       "      <td>8.166656</td>\n",
       "      <td>0.0</td>\n",
       "      <td>8.372352</td>\n",
       "      <td>4.824644</td>\n",
       "      <td>3.160225</td>\n",
       "      <td>9.649289</td>\n",
       "      <td>6.320449</td>\n",
       "      <td>NaN</td>\n",
       "    </tr>\n",
       "    <tr>\n",
       "      <th>2022-08-24 21:47:45</th>\n",
       "      <td>1675.616891</td>\n",
       "      <td>8.121816</td>\n",
       "      <td>0.000000</td>\n",
       "      <td>8.166656</td>\n",
       "      <td>0.0</td>\n",
       "      <td>8.372352</td>\n",
       "      <td>0.000000</td>\n",
       "      <td>3.160225</td>\n",
       "      <td>0.000000</td>\n",
       "      <td>6.320449</td>\n",
       "      <td>NaN</td>\n",
       "    </tr>\n",
       "  </tbody>\n",
       "</table>\n",
       "<p>401 rows × 11 columns</p>\n",
       "</div>"
      ],
      "text/plain": [
       "                           price       dca  c_dca_spend_30  c_dca_30  \\\n",
       "2021-07-21 17:00:00  2003.723921  0.024954        0.000000  0.000000   \n",
       "2021-07-22 17:00:00  2027.533448  0.049614        0.000000  0.000000   \n",
       "2021-07-23 17:00:00  2117.154608  0.073231        0.000000  0.000000   \n",
       "2021-07-24 17:00:00  2183.627415  0.096128        0.000000  0.000000   \n",
       "2021-07-25 17:00:00  2209.499360  0.118758        0.000000  0.000000   \n",
       "...                          ...       ...             ...       ...   \n",
       "2022-08-21 17:00:00  1624.149983  8.000979        0.000000  8.155825   \n",
       "2022-08-22 17:00:00  1622.307035  8.031800        3.408014  8.157925   \n",
       "2022-08-23 17:00:00  1665.791907  8.061815        0.000000  8.157925   \n",
       "2022-08-24 17:00:00  1657.793642  8.091976       14.473933  8.166656   \n",
       "2022-08-24 21:47:45  1675.616891  8.121816        0.000000  8.166656   \n",
       "\n",
       "                     c_dca_spend_50  c_dca_50  c_dca_spend_10  c_dca_10  \\\n",
       "2021-07-21 17:00:00             0.0  0.000000        0.000000  0.000000   \n",
       "2021-07-22 17:00:00             0.0  0.000000        0.000000  0.000000   \n",
       "2021-07-23 17:00:00             0.0  0.000000        0.000000  0.000000   \n",
       "2021-07-24 17:00:00             0.0  0.000000        0.000000  0.000000   \n",
       "2021-07-25 17:00:00             0.0  0.000000        0.000000  0.000000   \n",
       "...                             ...       ...             ...       ...   \n",
       "2022-08-21 17:00:00             0.0  8.372352        0.000000  3.156614   \n",
       "2022-08-22 17:00:00             0.0  8.372352        1.136005  3.157314   \n",
       "2022-08-23 17:00:00             0.0  8.372352        0.000000  3.157314   \n",
       "2022-08-24 17:00:00             0.0  8.372352        4.824644  3.160225   \n",
       "2022-08-24 21:47:45             0.0  8.372352        0.000000  3.160225   \n",
       "\n",
       "                     c_dca_spend_20  c_dca_20  neg_dca  \n",
       "2021-07-21 17:00:00        0.000000  0.000000      NaN  \n",
       "2021-07-22 17:00:00        0.000000  0.000000      NaN  \n",
       "2021-07-23 17:00:00        0.000000  0.000000      NaN  \n",
       "2021-07-24 17:00:00        0.000000  0.000000      NaN  \n",
       "2021-07-25 17:00:00        0.000000  0.000000      NaN  \n",
       "...                             ...       ...      ...  \n",
       "2022-08-21 17:00:00        0.000000  6.313228      NaN  \n",
       "2022-08-22 17:00:00        2.272009  6.314629      NaN  \n",
       "2022-08-23 17:00:00        0.000000  6.314629      NaN  \n",
       "2022-08-24 17:00:00        9.649289  6.320449      NaN  \n",
       "2022-08-24 21:47:45        0.000000  6.320449      NaN  \n",
       "\n",
       "[401 rows x 11 columns]"
      ]
     },
     "execution_count": 193,
     "metadata": {},
     "output_type": "execute_result"
    }
   ],
   "source": [
    "df"
   ]
  },
  {
   "cell_type": "code",
   "execution_count": 413,
   "id": "cc279407-500a-4d12-86db-1e457122aa27",
   "metadata": {},
   "outputs": [],
   "source": [
    "def generate_random_price(l, m):\n",
    "    acc = [2000]\n",
    "    for i in range(l):\n",
    "        acc.append(acc[-1]*(m*(random.uniform(0, 1)*random.uniform(0, 1))*random.uniform(-0.1, 0.1)+1))\n",
    "    return acc"
   ]
  },
  {
   "cell_type": "code",
   "execution_count": 430,
   "id": "887b1753-5031-4432-9957-e59541ad6b8c",
   "metadata": {},
   "outputs": [],
   "source": [
    "r = generate_random_price(400, 1)"
   ]
  },
  {
   "cell_type": "code",
   "execution_count": 431,
   "id": "10734a0c-7e73-4e91-bae5-439b83e0b5a9",
   "metadata": {},
   "outputs": [],
   "source": [
    "df = pd.DataFrame(r, columns=[\"price\"])"
   ]
  },
  {
   "cell_type": "code",
   "execution_count": 432,
   "id": "e57c7c35-592d-49f3-ad8d-af3fa84df7a8",
   "metadata": {},
   "outputs": [],
   "source": [
    "r = regular_dca(df)\n",
    "c50 = c_dca(df, 50)\n",
    "c100 = c_dca(df, 100)\n",
    "c200 = c_dca(df, 200)\n",
    "n = neg_dca(df)"
   ]
  },
  {
   "cell_type": "code",
   "execution_count": 433,
   "id": "c0abf975-cf0e-467c-87e1-6c2a262b7d12",
   "metadata": {},
   "outputs": [
    {
     "data": {
      "text/plain": [
       "{'name': 'c_dca_50',\n",
       " 'total_spent': 12584.676110013015,\n",
       " 'avg_price': 2387.1199137720214,\n",
       " 'result': 5.271907807147931}"
      ]
     },
     "execution_count": 433,
     "metadata": {},
     "output_type": "execute_result"
    }
   ],
   "source": [
    "c50.json()"
   ]
  },
  {
   "cell_type": "code",
   "execution_count": 434,
   "id": "dd746e4e-d4f4-4e3a-92d5-93210594fd61",
   "metadata": {},
   "outputs": [
    {
     "data": {
      "text/plain": [
       "[<matplotlib.lines.Line2D at 0x7fc8fbd2e9a0>]"
      ]
     },
     "execution_count": 434,
     "metadata": {},
     "output_type": "execute_result"
    },
    {
     "data": {
      "image/png": "[encoded data removed]",
      "text/plain": [
       "<Figure size 864x288 with 2 Axes>"
      ]
     },
     "metadata": {
      "needs_background": "light"
     },
     "output_type": "display_data"
    }
   ],
   "source": [
    "fig, ax = plt.subplots(figsize=(12, 4))\n",
    "ax.plot(df.price)\n",
    "ax1 = ax.twinx()\n",
    "ax1.plot(df.dca, c=\"#222222\", alpha=0.5)\n",
    "ax1.plot(df.c_dca_50, c=\"#00ff00\", alpha=0.3)\n",
    "ax1.plot(df.c_dca_100, c=\"#006600\", alpha=0.3)\n",
    "ax1.plot(df.c_dca_200, c=\"#003300\", alpha=0.3)\n",
    "ax1.plot(df.neg_dca, c=\"#882233\", alpha=0.1)"
   ]
  },
  {
   "cell_type": "code",
   "execution_count": null,
   "id": "7b47ff66-1e52-4b2f-85a6-0a4b7bcd3f8f",
   "metadata": {},
   "outputs": [],
   "source": []
  },
  {
   "cell_type": "code",
   "execution_count": null,
   "id": "1ff8e689-64a8-4d26-8830-606630868e8c",
   "metadata": {},
   "outputs": [],
   "source": []
  }
 ],
 "metadata": {
  "kernelspec": {
   "display_name": "Python 3 (ipykernel)",
   "language": "python",
   "name": "python3"
  },
  "language_info": {
   "codemirror_mode": {
    "name": "ipython",
    "version": 3
   },
   "file_extension": ".py",
   "mimetype": "text/x-python",
   "name": "python",
   "nbconvert_exporter": "python",
   "pygments_lexer": "ipython3",
   "version": "3.9.12"
  }
 },
 "nbformat": 4,
 "nbformat_minor": 5
}
